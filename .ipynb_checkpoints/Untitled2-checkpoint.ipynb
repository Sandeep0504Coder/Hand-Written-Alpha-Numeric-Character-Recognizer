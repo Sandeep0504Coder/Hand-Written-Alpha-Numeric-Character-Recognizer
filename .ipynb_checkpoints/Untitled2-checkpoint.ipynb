{
 "cells": [
  {
   "cell_type": "code",
   "execution_count": 23,
   "id": "b3e5f1e7",
   "metadata": {},
   "outputs": [],
   "source": [
    "import numpy as np\n",
    "import os\n",
    "import keras\n",
    "from keras.utils import np_utils\n",
    "from keras import optimizers\n",
    "from keras.models import Sequential\n",
    "from keras.layers import Convolution2D,MaxPooling2D,Flatten,Dense\n",
    "import DataPreprocessing\n",
    "import matplotlib.pyplot as plt\n",
    "%matplotlib inline"
   ]
  },
  {
   "cell_type": "code",
   "execution_count": 24,
   "id": "21b228c9",
   "metadata": {},
   "outputs": [],
   "source": [
    "image_size=28\n",
    "total_classes=62\n",
    "data_file_path=\"emnist-byclass.mat\"\n",
    "mappingFile=\"Model_Simple\"\n",
    "total=None\n",
    "logDetails=False\n",
    "filter_size=32\n",
    "kernel_size=(3,3)\n",
    "maxpool_size=(2,2)\n",
    "batch_size=256\n",
    "epochs=25\n",
    "model_name=\"Emnist_simple_ocr.h5\""
   ]
  },
  {
   "cell_type": "code",
   "execution_count": 27,
   "id": "0233a6a6",
   "metadata": {},
   "outputs": [
    {
     "name": "stdout",
     "output_type": "stream",
     "text": [
      "Training data processing started...\n"
     ]
    },
    {
     "ename": "MemoryError",
     "evalue": "Unable to allocate 2.04 GiB for an array with shape (697932, 28, 28, 1) and data type float32",
     "output_type": "error",
     "traceback": [
      "\u001b[1;31m---------------------------------------------------------------------------\u001b[0m",
      "\u001b[1;31mMemoryError\u001b[0m                               Traceback (most recent call last)",
      "\u001b[1;32m~\\AppData\\Local\\Temp\\ipykernel_11572\\3809652214.py\u001b[0m in \u001b[0;36m<module>\u001b[1;34m\u001b[0m\n\u001b[1;32m----> 1\u001b[1;33m \u001b[0mimage_data\u001b[0m\u001b[1;33m=\u001b[0m\u001b[0mDataPreprocessing\u001b[0m\u001b[1;33m.\u001b[0m\u001b[0mload_split_data\u001b[0m\u001b[1;33m(\u001b[0m\u001b[0mpath_to_file\u001b[0m\u001b[1;33m=\u001b[0m\u001b[0mdata_file_path\u001b[0m\u001b[1;33m,\u001b[0m\u001b[0mmappingFile\u001b[0m\u001b[1;33m=\u001b[0m\u001b[0mmappingFile\u001b[0m\u001b[1;33m,\u001b[0m\u001b[0mwidth\u001b[0m\u001b[1;33m=\u001b[0m\u001b[0mimage_size\u001b[0m\u001b[1;33m,\u001b[0m\u001b[0mheight\u001b[0m\u001b[1;33m=\u001b[0m\u001b[0mimage_size\u001b[0m\u001b[1;33m,\u001b[0m\u001b[0m_total\u001b[0m\u001b[1;33m=\u001b[0m\u001b[0mtotal\u001b[0m\u001b[1;33m,\u001b[0m\u001b[0mlogDetails\u001b[0m\u001b[1;33m=\u001b[0m\u001b[0mlogDetails\u001b[0m\u001b[1;33m)\u001b[0m\u001b[1;33m\u001b[0m\u001b[1;33m\u001b[0m\u001b[0m\n\u001b[0m",
      "\u001b[1;32m~\\Desktop\\HandwrittenCharecterRecognizer\\DataPreprocessing.py\u001b[0m in \u001b[0;36mload_split_data\u001b[1;34m(path_to_file, mappingFile, width, height, _total, logDetails)\u001b[0m\n\u001b[0;32m     57\u001b[0m             \u001b[0mtraining_imageLabel_aug\u001b[0m\u001b[1;33m.\u001b[0m\u001b[0mappend\u001b[0m\u001b[1;33m(\u001b[0m\u001b[0mtraining_images\u001b[0m\u001b[1;33m[\u001b[0m\u001b[0mi\u001b[0m\u001b[1;33m]\u001b[0m\u001b[1;33m)\u001b[0m\u001b[1;33m\u001b[0m\u001b[1;33m\u001b[0m\u001b[0m\n\u001b[0;32m     58\u001b[0m             training_imageLabel_aug.append(training_labels[i])'''\n\u001b[1;32m---> 59\u001b[1;33m     \u001b[0mtraining_images\u001b[0m\u001b[1;33m=\u001b[0m\u001b[0mtraining_images\u001b[0m\u001b[1;33m.\u001b[0m\u001b[0mastype\u001b[0m\u001b[1;33m(\u001b[0m\u001b[1;34m\"float32\"\u001b[0m\u001b[1;33m)\u001b[0m\u001b[1;33m\u001b[0m\u001b[1;33m\u001b[0m\u001b[0m\n\u001b[0m\u001b[0;32m     60\u001b[0m     \u001b[0mtraining_images\u001b[0m\u001b[1;33m/=\u001b[0m\u001b[1;36m255\u001b[0m\u001b[1;33m\u001b[0m\u001b[1;33m\u001b[0m\u001b[0m\n\u001b[0;32m     61\u001b[0m     \u001b[0mprint\u001b[0m\u001b[1;33m(\u001b[0m\u001b[1;34m\"Training data processing completed\"\u001b[0m\u001b[1;33m)\u001b[0m\u001b[1;33m\u001b[0m\u001b[1;33m\u001b[0m\u001b[0m\n",
      "\u001b[1;31mMemoryError\u001b[0m: Unable to allocate 2.04 GiB for an array with shape (697932, 28, 28, 1) and data type float32"
     ]
    }
   ],
   "source": [
    "image_data=DataPreprocessing.load_split_data(path_to_file=data_file_path,mappingFile=mappingFile,width=image_size,height=image_size,_total=total,logDetails=logDetails)"
   ]
  },
  {
   "cell_type": "code",
   "execution_count": null,
   "id": "d1a32c4b",
   "metadata": {},
   "outputs": [],
   "source": [
    "(x_train,y_train),(x_val,y_val),mapping=image_data\n",
    "y_train=np_utils.to_categorical(y_train,total_classes)\n",
    "y_val=np_utils.to_categorical(y_val,total_classes)"
   ]
  },
  {
   "cell_type": "code",
   "execution_count": null,
   "id": "19847f57",
   "metadata": {},
   "outputs": [],
   "source": [
    "model=Sequential()\n",
    "model.add(Convolution2D(filter_size,kernel_size,activation=\"relu\",input_shape=(image_size,image_size,1)))\n",
    "model.add(MaxPooling2D(maxpool_size))\n",
    "model.add(Convolution2D(2*filter_size,kernel_size,activation=\"relu\"))\n",
    "model.add(MaxPooling2D(maxpool_size))\n",
    "model.add(Flatten())\n",
    "model.add(Dense(512,activation=\"relu\"))\n",
    "model.add(Dense(total_classes,activation=\"sigmoid\"))\n",
    "model.compile(loss=\"categorical_crossentropy\",optimizer=optimizers.RMSprop(lr=0.0001),metrics=[\"acc\"])"
   ]
  },
  {
   "cell_type": "code",
   "execution_count": null,
   "id": "9e290673",
   "metadata": {},
   "outputs": [],
   "source": [
    "history=model.fit(x_train,y_train,batch_size=batch_size,epochs=epochs,validation_data=(x_val,y_val),verbose=1)"
   ]
  },
  {
   "cell_type": "code",
   "execution_count": null,
   "id": "0287a74c",
   "metadata": {},
   "outputs": [],
   "source": []
  }
 ],
 "metadata": {
  "kernelspec": {
   "display_name": "Python 3 (ipykernel)",
   "language": "python",
   "name": "python3"
  },
  "language_info": {
   "codemirror_mode": {
    "name": "ipython",
    "version": 3
   },
   "file_extension": ".py",
   "mimetype": "text/x-python",
   "name": "python",
   "nbconvert_exporter": "python",
   "pygments_lexer": "ipython3",
   "version": "3.9.13"
  }
 },
 "nbformat": 4,
 "nbformat_minor": 5
}
