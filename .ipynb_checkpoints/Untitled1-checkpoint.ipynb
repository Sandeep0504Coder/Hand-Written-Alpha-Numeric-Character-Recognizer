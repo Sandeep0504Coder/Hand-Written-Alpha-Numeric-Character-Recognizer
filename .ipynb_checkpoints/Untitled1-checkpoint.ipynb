{
 "cells": [
  {
   "cell_type": "code",
   "execution_count": null,
   "id": "5c6d3800",
   "metadata": {},
   "outputs": [],
   "source": [
    "from _future_ import print_function\n",
    "from sklearn.model_selection import train_test_split\n",
    "import pandas as pd\n",
    "import keras\n",
    "from keras.models import Sequential\n",
    "from keras.layers import Dense, Dropout, Flatten\n",
    "from keras.layers import Conv2D, MaxPooling2D\n",
    "from keras.callbacks import ReduceLROnPlateau\n",
    "from keras import backend as K\n",
    "from keras.preprocessing.image import ImageDataGenerator\n",
    "from keras.preprocessing import image as im\n",
    "from keras.utils.np_utils import to_categorical\n",
    "import random\n",
    "import tensorflow\n",
    "import numpy as np\n",
    "!pip install opencv-python\n",
    "!pip install opencv-python-headless\n",
    "import cv2\n",
    "from _future_ import division"
   ]
  },
  {
   "cell_type": "code",
   "execution_count": null,
   "id": "43282298",
   "metadata": {},
   "outputs": [],
   "source": [
    "raw_data = pd.read_csv(\"emnist-balanced-test.csv\")"
   ]
  },
  {
   "cell_type": "code",
   "execution_count": null,
   "id": "c729943e",
   "metadata": {},
   "outputs": [],
   "source": [
    "train, validate = train_test_split(raw_data, test_size=0.2)"
   ]
  },
  {
   "cell_type": "code",
   "execution_count": null,
   "id": "be2ebda7",
   "metadata": {},
   "outputs": [],
   "source": [
    "x_train = train.values[:,1:]\n",
    "y_train = train.values[:,0]"
   ]
  },
  {
   "cell_type": "code",
   "execution_count": null,
   "id": "eed80841",
   "metadata": {},
   "outputs": [],
   "source": [
    "x_validate = validate.values[:,1:]\n",
    "y_validate = validate.values[:,0]"
   ]
  },
  {
   "cell_type": "code",
   "execution_count": null,
   "id": "b6f985f5",
   "metadata": {},
   "outputs": [],
   "source": [
    "batch_size = 512\n",
    "num_classes = 47\n",
    "epochs = 1"
   ]
  },
  {
   "cell_type": "code",
   "execution_count": null,
   "id": "d4b8a139",
   "metadata": {},
   "outputs": [],
   "source": [
    "charInd = random.randint(0,10000) # select random index in dataset for testing\n",
    "emnist = \"0123456789ABCDEFGHIJKLMNOPQRSTUVWXYZabdefghnqrt\""
   ]
  },
  {
   "cell_type": "code",
   "execution_count": null,
   "id": "253dc23b",
   "metadata": {},
   "outputs": [],
   "source": [
    "img_rows, img_cols = 28, 28"
   ]
  },
  {
   "cell_type": "code",
   "execution_count": null,
   "id": "32eeadf4",
   "metadata": {},
   "outputs": [],
   "source": [
    "if K.image_data_format() == 'channels_first':\n",
    "    x_train = x_train.reshape(x_train.shape[0], 1, img_rows, img_cols)\n",
    "    x_validate = x_validate.reshape(x_validate.shape[0], 1, img_rows, img_cols)\n",
    "    input_shape = (1, img_rows, img_cols)\n",
    "else:\n",
    "    x_train = x_train.reshape(x_train.shape[0], img_rows, img_cols, 1)\n",
    "    x_validate = x_validate.reshape(x_validate.shape[0], img_rows, img_cols, 1)\n",
    "    input_shape = (img_rows, img_cols, 1)"
   ]
  },
  {
   "cell_type": "code",
   "execution_count": null,
   "id": "cf406e83",
   "metadata": {},
   "outputs": [],
   "source": [
    "x_train = x_train.astype('float32')\n",
    "x_validate = x_validate.astype('float32')\n",
    "x_train /= 255\n",
    "x_validate /= 255\n",
    "print('x_train shape:', x_train.shape)\n",
    "print(x_train.shape[0], 'train samples')\n",
    "print(x_validate.shape[0], 'validation samples')"
   ]
  },
  {
   "cell_type": "code",
   "execution_count": null,
   "id": "1910d6b3",
   "metadata": {},
   "outputs": [],
   "source": [
    "y_train = tensorflow.keras.utils.to_categorical(y_train, num_classes)\n",
    "y_validate = tensorflow.keras.utils.to_categorical(y_validate, num_classes)"
   ]
  },
  {
   "cell_type": "code",
   "execution_count": null,
   "id": "c85ba5fc",
   "metadata": {},
   "outputs": [],
   "source": [
    "alphanum = np.where(y_validate[charInd]==1.)[0][0]"
   ]
  },
  {
   "cell_type": "code",
   "execution_count": null,
   "id": "0cfe2da3",
   "metadata": {},
   "outputs": [],
   "source": [
    "datagen = ImageDataGenerator(\n",
    "    width_shift_range = 0.075,\n",
    "    height_shift_range = 0.075,\n",
    "    rotation_range = 45,\n",
    "    shear_range = 0.075,\n",
    "    zoom_range = 0.05,\n",
    "    fill_mode = 'constant',\n",
    "    cval = 0,)"
   ]
  },
  {
   "cell_type": "code",
   "execution_count": null,
   "id": "2a12ae62",
   "metadata": {},
   "outputs": [],
   "source": [
    "# datagen.fit(x_train)\n",
    "model = Sequential()\n",
    "model.add(Conv2D(32, kernel_size=(5, 5),\n",
    "                 activation='relu',\n",
    "                 input_shape=input_shape))"
   ]
  },
  {
   "cell_type": "code",
   "execution_count": null,
   "id": "93e693bb",
   "metadata": {},
   "outputs": [],
   "source": [
    "model.add(Flatten())\n",
    "model.add(Dense(1024, activation='relu'))\n",
    "model.add(Dropout(0.5))\n",
    "model.add(Dense(1024, activation='relu'))\n",
    "model.add(Dropout(0.5))\n",
    " \n",
    "model.add(Dense(num_classes, activation='softmax'))\n",
    "\n",
    "model.compile(loss=keras.losses.categorical_crossentropy,\n",
    "              optimizer=tensorflow.keras.optimizers.Adadelta(),\n",
    "              metrics=['accuracy'])\n",
    "reduce_lr = ReduceLROnPlateau(monitor = 'val_loss', factor = 0.5,\n",
    "                              patience = 2, min_lr = 0.0001)"
   ]
  },
  {
   "cell_type": "code",
   "execution_count": null,
   "id": "7a2e9964",
   "metadata": {},
   "outputs": [],
   "source": [
    "model.load_weights('conv-model.h5')\n",
    "score = model.evaluate(x_validate, y_validate, verbose = 0)\n",
    "print('Validation loss:', score[0])\n",
    "print('Validation accuracy:', score[1])"
   ]
  },
  {
   "cell_type": "code",
   "execution_count": null,
   "id": "a6c68d4b",
   "metadata": {},
   "outputs": [],
   "source": [
    "model_json = model.to_json()"
   ]
  },
  {
   "cell_type": "code",
   "execution_count": null,
   "id": "bccb289d",
   "metadata": {},
   "outputs": [],
   "source": [
    "with open(\"conv-model.json\", \"w\") as json_file:\n",
    "    json_file.write(model_json)\n",
    "#     print(\"json file created\")"
   ]
  },
  {
   "cell_type": "code",
   "execution_count": null,
   "id": "133c15ed",
   "metadata": {},
   "outputs": [],
   "source": [
    "model.save_weights(\"conv-model.h5\")\n",
    "print(\"Saved model to disk\")"
   ]
  },
  {
   "cell_type": "code",
   "execution_count": null,
   "id": "d75960f3",
   "metadata": {},
   "outputs": [],
   "source": [
    "randChar = np.array([x_validate[charInd,:]])"
   ]
  },
  {
   "cell_type": "code",
   "execution_count": null,
   "id": "889d138f",
   "metadata": {},
   "outputs": [],
   "source": [
    "newChar = cv2.imread(\"test4.png\", 0)\n",
    "# print(newChar.shape)\n",
    "newChar = np.array(newChar)/255\n",
    "newChar.reshape(28,28)\n",
    "nChar = np.zeros((1,28,28,1))"
   ]
  },
  {
   "cell_type": "code",
   "execution_count": null,
   "id": "e2499d7a",
   "metadata": {},
   "outputs": [],
   "source": [
    "for i in range(28):\n",
    "  for j in range(28):\n",
    "    nChar[0][i][j][0] = newChar.T[i][j]\n",
    "\n",
    "\n",
    "prediction2 = model.predict(nChar)\n",
    "print(prediction2)\n",
    "\n",
    "pred = secondPred = predIndex = secondPredIndex = thirdPred = thirdPredIndex = 0"
   ]
  },
  {
   "cell_type": "code",
   "execution_count": null,
   "id": "4e023322",
   "metadata": {},
   "outputs": [],
   "source": [
    "for i in range(47):\n",
    "  if prediction2[0][i] > pred:\n",
    "    pred = prediction2[0][i]\n",
    "    predIndex = i"
   ]
  },
  {
   "cell_type": "code",
   "execution_count": null,
   "id": "97047490",
   "metadata": {},
   "outputs": [],
   "source": [
    "for i in range(47):\n",
    "  if prediction2[0][i] > secondPred and i != predIndex:\n",
    "    secondPred = prediction2[0][i]\n",
    "    secondPredIndex = i"
   ]
  },
  {
   "cell_type": "code",
   "execution_count": null,
   "id": "f8c3e6f9",
   "metadata": {},
   "outputs": [],
   "source": [
    "for i in range(47):\n",
    "  if prediction2[0][i] > thirdPred and i != predIndex and i != secondPredIndex:\n",
    "    thirdPred = prediction2[0][i]\n",
    "    thirdPredIndex = i"
   ]
  },
  {
   "cell_type": "code",
   "execution_count": null,
   "id": "9d56e3dc",
   "metadata": {},
   "outputs": [],
   "source": [
    "print(\"Random character: \"+str(emnist[alphanum]))\n",
    "print(\"1st guess: \" + emnist[predIndex]+\", probability: \" + str(100*pred)+\"%\")\n",
    "print(\"2nd guess: \" + emnist[secondPredIndex]+\", probability: \" + str(100*secondPred)+\"%\")\n",
    "print(\"3rd guess: \" + emnist[thirdPredIndex]+\", probability: \" + str(100*thirdPred)+\"%\")"
   ]
  },
  {
   "cell_type": "code",
   "execution_count": null,
   "id": "f57c78a6",
   "metadata": {},
   "outputs": [],
   "source": [
    "np.reshape(nChar, (28,28))\n",
    "cv2.imshow(\"random character\",np.array(newChar))\n",
    "cv2.waitKey(0)"
   ]
  },
  {
   "cell_type": "code",
   "execution_count": null,
   "id": "cb158422",
   "metadata": {},
   "outputs": [],
   "source": []
  },
  {
   "cell_type": "code",
   "execution_count": null,
   "id": "bae9b258",
   "metadata": {},
   "outputs": [],
   "source": []
  },
  {
   "cell_type": "code",
   "execution_count": null,
   "id": "85e9d361",
   "metadata": {},
   "outputs": [],
   "source": []
  }
 ],
 "metadata": {
  "kernelspec": {
   "display_name": "Python 3 (ipykernel)",
   "language": "python",
   "name": "python3"
  },
  "language_info": {
   "codemirror_mode": {
    "name": "ipython",
    "version": 3
   },
   "file_extension": ".py",
   "mimetype": "text/x-python",
   "name": "python",
   "nbconvert_exporter": "python",
   "pygments_lexer": "ipython3",
   "version": "3.9.13"
  }
 },
 "nbformat": 4,
 "nbformat_minor": 5
}
