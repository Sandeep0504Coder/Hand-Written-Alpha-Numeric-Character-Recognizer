{
 "cells": [
  {
   "cell_type": "code",
   "execution_count": 1,
   "id": "d46147c9",
   "metadata": {},
   "outputs": [],
   "source": [
    "import numpy as np\n",
    "import pandas as pd\n",
    "import matplotlib.pyplot as plt\n",
    "\n",
    "from sklearn.model_selection import train_test_split\n",
    "import cv2\n",
    "\n",
    "#keras\n",
    "import tensorflow as tf\n",
    "from keras.models import Sequential\n",
    "from keras.layers import Dense, Dropout, Flatten\n",
    "from keras.layers import Conv2D, MaxPooling2D\n",
    "from keras.utils import np_utils\n",
    "import sklearn.metrics as metrics"
   ]
  },
  {
   "cell_type": "code",
   "execution_count": 2,
   "id": "18f9929f",
   "metadata": {},
   "outputs": [],
   "source": [
    "from tensorflow.keras.callbacks import EarlyStopping, ReduceLROnPlateau,ModelCheckpoint"
   ]
  },
  {
   "cell_type": "code",
   "execution_count": 61,
   "id": "290cde90",
   "metadata": {},
   "outputs": [
    {
     "name": "stdout",
     "output_type": "stream",
     "text": [
      "(112799, 785) (18799, 785)\n",
      "Train: (112799, 785), Test: (18799, 785), Map: (47, 1)\n"
     ]
    }
   ],
   "source": [
    "train = pd.read_csv(\"emnist-balanced-train.csv\")\n",
    "test = pd.read_csv(\"emnist-balanced-test.csv\")\n",
    "print(train.shape,test.shape)\n",
    "mapp = pd.read_csv(\"emnist-balanced-mapping.txt\",header=None)\n",
    "print(\"Train: %s, Test: %s, Map: %s\" %(train.shape, test.shape, mapp.shape))"
   ]
  },
  {
   "cell_type": "code",
   "execution_count": 4,
   "id": "9bcaf108",
   "metadata": {},
   "outputs": [
    {
     "data": {
      "text/html": [
       "<div>\n",
       "<style scoped>\n",
       "    .dataframe tbody tr th:only-of-type {\n",
       "        vertical-align: middle;\n",
       "    }\n",
       "\n",
       "    .dataframe tbody tr th {\n",
       "        vertical-align: top;\n",
       "    }\n",
       "\n",
       "    .dataframe thead th {\n",
       "        text-align: right;\n",
       "    }\n",
       "</style>\n",
       "<table border=\"1\" class=\"dataframe\">\n",
       "  <thead>\n",
       "    <tr style=\"text-align: right;\">\n",
       "      <th></th>\n",
       "      <th>45</th>\n",
       "      <th>0</th>\n",
       "      <th>0.1</th>\n",
       "      <th>0.2</th>\n",
       "      <th>0.3</th>\n",
       "      <th>0.4</th>\n",
       "      <th>0.5</th>\n",
       "      <th>0.6</th>\n",
       "      <th>0.7</th>\n",
       "      <th>0.8</th>\n",
       "      <th>...</th>\n",
       "      <th>0.524</th>\n",
       "      <th>0.525</th>\n",
       "      <th>0.526</th>\n",
       "      <th>0.527</th>\n",
       "      <th>0.528</th>\n",
       "      <th>0.529</th>\n",
       "      <th>0.530</th>\n",
       "      <th>0.531</th>\n",
       "      <th>0.532</th>\n",
       "      <th>0.533</th>\n",
       "    </tr>\n",
       "  </thead>\n",
       "  <tbody>\n",
       "    <tr>\n",
       "      <th>0</th>\n",
       "      <td>36</td>\n",
       "      <td>0</td>\n",
       "      <td>0</td>\n",
       "      <td>0</td>\n",
       "      <td>0</td>\n",
       "      <td>0</td>\n",
       "      <td>0</td>\n",
       "      <td>0</td>\n",
       "      <td>0</td>\n",
       "      <td>0</td>\n",
       "      <td>...</td>\n",
       "      <td>0</td>\n",
       "      <td>0</td>\n",
       "      <td>0</td>\n",
       "      <td>0</td>\n",
       "      <td>0</td>\n",
       "      <td>0</td>\n",
       "      <td>0</td>\n",
       "      <td>0</td>\n",
       "      <td>0</td>\n",
       "      <td>0</td>\n",
       "    </tr>\n",
       "    <tr>\n",
       "      <th>1</th>\n",
       "      <td>43</td>\n",
       "      <td>0</td>\n",
       "      <td>0</td>\n",
       "      <td>0</td>\n",
       "      <td>0</td>\n",
       "      <td>0</td>\n",
       "      <td>0</td>\n",
       "      <td>0</td>\n",
       "      <td>0</td>\n",
       "      <td>0</td>\n",
       "      <td>...</td>\n",
       "      <td>0</td>\n",
       "      <td>0</td>\n",
       "      <td>0</td>\n",
       "      <td>0</td>\n",
       "      <td>0</td>\n",
       "      <td>0</td>\n",
       "      <td>0</td>\n",
       "      <td>0</td>\n",
       "      <td>0</td>\n",
       "      <td>0</td>\n",
       "    </tr>\n",
       "    <tr>\n",
       "      <th>2</th>\n",
       "      <td>15</td>\n",
       "      <td>0</td>\n",
       "      <td>0</td>\n",
       "      <td>0</td>\n",
       "      <td>0</td>\n",
       "      <td>0</td>\n",
       "      <td>0</td>\n",
       "      <td>0</td>\n",
       "      <td>0</td>\n",
       "      <td>0</td>\n",
       "      <td>...</td>\n",
       "      <td>0</td>\n",
       "      <td>0</td>\n",
       "      <td>0</td>\n",
       "      <td>0</td>\n",
       "      <td>0</td>\n",
       "      <td>0</td>\n",
       "      <td>0</td>\n",
       "      <td>0</td>\n",
       "      <td>0</td>\n",
       "      <td>0</td>\n",
       "    </tr>\n",
       "    <tr>\n",
       "      <th>3</th>\n",
       "      <td>4</td>\n",
       "      <td>0</td>\n",
       "      <td>0</td>\n",
       "      <td>0</td>\n",
       "      <td>0</td>\n",
       "      <td>0</td>\n",
       "      <td>0</td>\n",
       "      <td>0</td>\n",
       "      <td>0</td>\n",
       "      <td>0</td>\n",
       "      <td>...</td>\n",
       "      <td>0</td>\n",
       "      <td>0</td>\n",
       "      <td>0</td>\n",
       "      <td>0</td>\n",
       "      <td>0</td>\n",
       "      <td>0</td>\n",
       "      <td>0</td>\n",
       "      <td>0</td>\n",
       "      <td>0</td>\n",
       "      <td>0</td>\n",
       "    </tr>\n",
       "    <tr>\n",
       "      <th>4</th>\n",
       "      <td>42</td>\n",
       "      <td>0</td>\n",
       "      <td>0</td>\n",
       "      <td>0</td>\n",
       "      <td>0</td>\n",
       "      <td>0</td>\n",
       "      <td>0</td>\n",
       "      <td>0</td>\n",
       "      <td>0</td>\n",
       "      <td>0</td>\n",
       "      <td>...</td>\n",
       "      <td>0</td>\n",
       "      <td>0</td>\n",
       "      <td>0</td>\n",
       "      <td>0</td>\n",
       "      <td>0</td>\n",
       "      <td>0</td>\n",
       "      <td>0</td>\n",
       "      <td>0</td>\n",
       "      <td>0</td>\n",
       "      <td>0</td>\n",
       "    </tr>\n",
       "    <tr>\n",
       "      <th>5</th>\n",
       "      <td>26</td>\n",
       "      <td>0</td>\n",
       "      <td>0</td>\n",
       "      <td>0</td>\n",
       "      <td>0</td>\n",
       "      <td>0</td>\n",
       "      <td>0</td>\n",
       "      <td>0</td>\n",
       "      <td>0</td>\n",
       "      <td>0</td>\n",
       "      <td>...</td>\n",
       "      <td>0</td>\n",
       "      <td>0</td>\n",
       "      <td>0</td>\n",
       "      <td>0</td>\n",
       "      <td>0</td>\n",
       "      <td>0</td>\n",
       "      <td>0</td>\n",
       "      <td>0</td>\n",
       "      <td>0</td>\n",
       "      <td>0</td>\n",
       "    </tr>\n",
       "    <tr>\n",
       "      <th>6</th>\n",
       "      <td>32</td>\n",
       "      <td>0</td>\n",
       "      <td>0</td>\n",
       "      <td>0</td>\n",
       "      <td>0</td>\n",
       "      <td>0</td>\n",
       "      <td>0</td>\n",
       "      <td>0</td>\n",
       "      <td>0</td>\n",
       "      <td>0</td>\n",
       "      <td>...</td>\n",
       "      <td>0</td>\n",
       "      <td>0</td>\n",
       "      <td>0</td>\n",
       "      <td>0</td>\n",
       "      <td>0</td>\n",
       "      <td>0</td>\n",
       "      <td>0</td>\n",
       "      <td>0</td>\n",
       "      <td>0</td>\n",
       "      <td>0</td>\n",
       "    </tr>\n",
       "    <tr>\n",
       "      <th>7</th>\n",
       "      <td>20</td>\n",
       "      <td>0</td>\n",
       "      <td>0</td>\n",
       "      <td>0</td>\n",
       "      <td>0</td>\n",
       "      <td>0</td>\n",
       "      <td>0</td>\n",
       "      <td>0</td>\n",
       "      <td>0</td>\n",
       "      <td>0</td>\n",
       "      <td>...</td>\n",
       "      <td>0</td>\n",
       "      <td>0</td>\n",
       "      <td>0</td>\n",
       "      <td>0</td>\n",
       "      <td>0</td>\n",
       "      <td>0</td>\n",
       "      <td>0</td>\n",
       "      <td>0</td>\n",
       "      <td>0</td>\n",
       "      <td>0</td>\n",
       "    </tr>\n",
       "    <tr>\n",
       "      <th>8</th>\n",
       "      <td>1</td>\n",
       "      <td>0</td>\n",
       "      <td>0</td>\n",
       "      <td>0</td>\n",
       "      <td>0</td>\n",
       "      <td>0</td>\n",
       "      <td>0</td>\n",
       "      <td>0</td>\n",
       "      <td>0</td>\n",
       "      <td>0</td>\n",
       "      <td>...</td>\n",
       "      <td>0</td>\n",
       "      <td>0</td>\n",
       "      <td>0</td>\n",
       "      <td>0</td>\n",
       "      <td>0</td>\n",
       "      <td>0</td>\n",
       "      <td>0</td>\n",
       "      <td>0</td>\n",
       "      <td>0</td>\n",
       "      <td>0</td>\n",
       "    </tr>\n",
       "    <tr>\n",
       "      <th>9</th>\n",
       "      <td>46</td>\n",
       "      <td>0</td>\n",
       "      <td>0</td>\n",
       "      <td>0</td>\n",
       "      <td>0</td>\n",
       "      <td>0</td>\n",
       "      <td>0</td>\n",
       "      <td>0</td>\n",
       "      <td>0</td>\n",
       "      <td>0</td>\n",
       "      <td>...</td>\n",
       "      <td>0</td>\n",
       "      <td>0</td>\n",
       "      <td>0</td>\n",
       "      <td>0</td>\n",
       "      <td>0</td>\n",
       "      <td>0</td>\n",
       "      <td>0</td>\n",
       "      <td>0</td>\n",
       "      <td>0</td>\n",
       "      <td>0</td>\n",
       "    </tr>\n",
       "  </tbody>\n",
       "</table>\n",
       "<p>10 rows × 785 columns</p>\n",
       "</div>"
      ],
      "text/plain": [
       "   45  0  0.1  0.2  0.3  0.4  0.5  0.6  0.7  0.8  ...  0.524  0.525  0.526  \\\n",
       "0  36  0    0    0    0    0    0    0    0    0  ...      0      0      0   \n",
       "1  43  0    0    0    0    0    0    0    0    0  ...      0      0      0   \n",
       "2  15  0    0    0    0    0    0    0    0    0  ...      0      0      0   \n",
       "3   4  0    0    0    0    0    0    0    0    0  ...      0      0      0   \n",
       "4  42  0    0    0    0    0    0    0    0    0  ...      0      0      0   \n",
       "5  26  0    0    0    0    0    0    0    0    0  ...      0      0      0   \n",
       "6  32  0    0    0    0    0    0    0    0    0  ...      0      0      0   \n",
       "7  20  0    0    0    0    0    0    0    0    0  ...      0      0      0   \n",
       "8   1  0    0    0    0    0    0    0    0    0  ...      0      0      0   \n",
       "9  46  0    0    0    0    0    0    0    0    0  ...      0      0      0   \n",
       "\n",
       "   0.527  0.528  0.529  0.530  0.531  0.532  0.533  \n",
       "0      0      0      0      0      0      0      0  \n",
       "1      0      0      0      0      0      0      0  \n",
       "2      0      0      0      0      0      0      0  \n",
       "3      0      0      0      0      0      0      0  \n",
       "4      0      0      0      0      0      0      0  \n",
       "5      0      0      0      0      0      0      0  \n",
       "6      0      0      0      0      0      0      0  \n",
       "7      0      0      0      0      0      0      0  \n",
       "8      0      0      0      0      0      0      0  \n",
       "9      0      0      0      0      0      0      0  \n",
       "\n",
       "[10 rows x 785 columns]"
      ]
     },
     "execution_count": 4,
     "metadata": {},
     "output_type": "execute_result"
    }
   ],
   "source": [
    "train.head(10)"
   ]
  },
  {
   "cell_type": "code",
   "execution_count": 5,
   "id": "1b998d5f",
   "metadata": {},
   "outputs": [],
   "source": [
    "# Constants\n",
    "HEIGHT = 28\n",
    "WIDTH = 28"
   ]
  },
  {
   "cell_type": "code",
   "execution_count": 6,
   "id": "6c83d4cb",
   "metadata": {},
   "outputs": [],
   "source": [
    "# Split x and y\n",
    "train_x = train.iloc[:,1:]\n",
    "train_y = train.iloc[:,0]\n",
    "del train\n",
    "\n",
    "test_x = test.iloc[:,1:]\n",
    "test_y = test.iloc[:,0]\n",
    "del test"
   ]
  },
  {
   "cell_type": "code",
   "execution_count": 7,
   "id": "9338843f",
   "metadata": {},
   "outputs": [
    {
     "name": "stdout",
     "output_type": "stream",
     "text": [
      "(112799, 784) (112799,) (18799, 784) (18799,)\n"
     ]
    }
   ],
   "source": [
    "print(train_x.shape,train_y.shape,test_x.shape,test_y.shape)"
   ]
  },
  {
   "cell_type": "code",
   "execution_count": 8,
   "id": "ff38bcb4",
   "metadata": {},
   "outputs": [],
   "source": [
    "def rotate(image):\n",
    "    image = image.reshape([HEIGHT, WIDTH])\n",
    "    image = np.fliplr(image)\n",
    "    image = np.rot90(image)\n",
    "    return image"
   ]
  },
  {
   "cell_type": "code",
   "execution_count": 9,
   "id": "f9887a29",
   "metadata": {},
   "outputs": [
    {
     "name": "stdout",
     "output_type": "stream",
     "text": [
      "train_x: (112799, 28, 28)\n",
      "test_x: (18799, 28, 28)\n"
     ]
    }
   ],
   "source": [
    "# Flip and rotate image\n",
    "train_x = np.asarray(train_x)\n",
    "train_x = np.apply_along_axis(rotate, 1, train_x)\n",
    "print (\"train_x:\",train_x.shape)\n",
    "\n",
    "test_x = np.asarray(test_x)\n",
    "test_x = np.apply_along_axis(rotate, 1, test_x)\n",
    "print (\"test_x:\",test_x.shape)"
   ]
  },
  {
   "cell_type": "code",
   "execution_count": 10,
   "id": "778bc898",
   "metadata": {},
   "outputs": [],
   "source": [
    "# Normalise\n",
    "train_x = train_x.astype('float32')\n",
    "train_x /= 255\n",
    "test_x = test_x.astype('float32')\n",
    "test_x /= 255"
   ]
  },
  {
   "cell_type": "code",
   "execution_count": 11,
   "id": "1eef6c83",
   "metadata": {},
   "outputs": [
    {
     "data": {
      "image/png": "[encoded data removed]",
      "text/plain": [
       "<Figure size 640x480 with 9 Axes>"
      ]
     },
     "metadata": {},
     "output_type": "display_data"
    }
   ],
   "source": [
    "# plot image\n",
    "for i in range(100, 109):\n",
    "    plt.subplot(330 + (i+1))\n",
    "    plt.imshow(train_x[i], cmap=plt.get_cmap('gray'))\n",
    "    plt.title(chr(mapp[train_y[i]]))"
   ]
  },
  {
   "cell_type": "code",
   "execution_count": 12,
   "id": "f2db7030",
   "metadata": {},
   "outputs": [
    {
     "name": "stdout",
     "output_type": "stream",
     "text": [
      "47\n"
     ]
    }
   ],
   "source": [
    "# number of classes\n",
    "num_classes = train_y.nunique()\n",
    "print(num_classes)"
   ]
  },
  {
   "cell_type": "code",
   "execution_count": 13,
   "id": "8fe7f038",
   "metadata": {},
   "outputs": [
    {
     "name": "stdout",
     "output_type": "stream",
     "text": [
      "train_y:  (112799, 47)\n",
      "test_y:  (18799, 47)\n"
     ]
    }
   ],
   "source": [
    "# One hot encoding\n",
    "train_y = np_utils.to_categorical(train_y, num_classes)\n",
    "test_y = np_utils.to_categorical(test_y, num_classes)\n",
    "print(\"train_y: \", train_y.shape)\n",
    "print(\"test_y: \", test_y.shape)"
   ]
  },
  {
   "cell_type": "code",
   "execution_count": 14,
   "id": "eb2216c4",
   "metadata": {},
   "outputs": [
    {
     "name": "stdout",
     "output_type": "stream",
     "text": [
      "train:  (112799, 28, 28, 1) test:  (18799, 28, 28, 1)\n"
     ]
    }
   ],
   "source": [
    "# Reshape image for CNN\n",
    "train_x = train_x.reshape(-1, HEIGHT, WIDTH, 1)\n",
    "test_x = test_x.reshape(-1, HEIGHT, WIDTH, 1)\n",
    "print(\"train: \",train_x.shape,\"test: \",test_x.shape )"
   ]
  },
  {
   "cell_type": "code",
   "execution_count": 15,
   "id": "82aa9000",
   "metadata": {},
   "outputs": [],
   "source": [
    "# partition to train and val\n",
    "train_x, val_x, train_y, val_y = train_test_split(train_x, train_y, test_size= 0.20, random_state=7)"
   ]
  },
  {
   "cell_type": "code",
   "execution_count": 16,
   "id": "cbf7ba95",
   "metadata": {},
   "outputs": [
    {
     "name": "stdout",
     "output_type": "stream",
     "text": [
      "Model: \"sequential\"\n",
      "_________________________________________________________________\n",
      " Layer (type)                Output Shape              Param #   \n",
      "=================================================================\n",
      " conv2d (Conv2D)             (None, 28, 28, 128)       3328      \n",
      "                                                                 \n",
      " max_pooling2d (MaxPooling2D  (None, 14, 14, 128)      0         \n",
      " )                                                               \n",
      "                                                                 \n",
      " conv2d_1 (Conv2D)           (None, 14, 14, 64)        73792     \n",
      "                                                                 \n",
      " max_pooling2d_1 (MaxPooling  (None, 7, 7, 64)         0         \n",
      " 2D)                                                             \n",
      "                                                                 \n",
      " flatten (Flatten)           (None, 3136)              0         \n",
      "                                                                 \n",
      " dense (Dense)               (None, 128)               401536    \n",
      "                                                                 \n",
      " dropout (Dropout)           (None, 128)               0         \n",
      "                                                                 \n",
      " dense_1 (Dense)             (None, 47)                6063      \n",
      "                                                                 \n",
      "=================================================================\n",
      "Total params: 484,719\n",
      "Trainable params: 484,719\n",
      "Non-trainable params: 0\n",
      "_________________________________________________________________\n"
     ]
    }
   ],
   "source": [
    "# Building model\n",
    "# ((Si - Fi + 2P)/S) + 1\n",
    "model = Sequential()\n",
    "\n",
    "model.add(Conv2D(filters=128, kernel_size=(5,5), padding = 'same', activation='relu',\\\n",
    "                 input_shape=(HEIGHT, WIDTH,1)))\n",
    "model.add(MaxPooling2D(pool_size=(2,2), strides=(2,2)))\n",
    "model.add(Conv2D(filters=64, kernel_size=(3,3) , padding = 'same', activation='relu'))\n",
    "model.add(MaxPooling2D(pool_size=(2,2)))\n",
    "\n",
    "model.add(Flatten())\n",
    "model.add(Dense(units=128, activation='relu'))\n",
    "model.add(Dropout(.5))\n",
    "model.add(Dense(units=num_classes, activation='softmax'))\n",
    "\n",
    "model.summary()"
   ]
  },
  {
   "cell_type": "code",
   "execution_count": 17,
   "id": "559e837e",
   "metadata": {},
   "outputs": [],
   "source": [
    "model.compile(loss='categorical_crossentropy', optimizer='adam', metrics=['accuracy'])"
   ]
  },
  {
   "cell_type": "code",
   "execution_count": 18,
   "id": "35ddbf9e",
   "metadata": {},
   "outputs": [],
   "source": [
    "MCP = ModelCheckpoint('Best_points.h5',verbose=1,save_best_only=True,monitor='val_accuracy',mode='max')\n",
    "ES = EarlyStopping(monitor='val_accuracy',min_delta=0,verbose=0,patience=3,mode='max')\n",
    "RLP = ReduceLROnPlateau(monitor='val_loss',patience=3,factor=0.2,min_lr=0.0001)"
   ]
  },
  {
   "cell_type": "code",
   "execution_count": 19,
   "id": "d94a47e9",
   "metadata": {},
   "outputs": [
    {
     "name": "stdout",
     "output_type": "stream",
     "text": [
      "Epoch 1/50\n",
      "177/177 [==============================] - ETA: 0s - loss: 1.7529 - accuracy: 0.5055\n",
      "Epoch 1: val_accuracy improved from -inf to 0.80164, saving model to Best_points.h5\n",
      "177/177 [==============================] - 289s 2s/step - loss: 1.7529 - accuracy: 0.5055 - val_loss: 0.6246 - val_accuracy: 0.8016 - lr: 0.0010\n",
      "Epoch 2/50\n",
      "177/177 [==============================] - ETA: 0s - loss: 0.8468 - accuracy: 0.7340\n",
      "Epoch 2: val_accuracy improved from 0.80164 to 0.83887, saving model to Best_points.h5\n",
      "177/177 [==============================] - 293s 2s/step - loss: 0.8468 - accuracy: 0.7340 - val_loss: 0.4841 - val_accuracy: 0.8389 - lr: 0.0010\n",
      "Epoch 3/50\n",
      "177/177 [==============================] - ETA: 0s - loss: 0.6843 - accuracy: 0.7803\n",
      "Epoch 3: val_accuracy improved from 0.83887 to 0.84450, saving model to Best_points.h5\n",
      "177/177 [==============================] - 285s 2s/step - loss: 0.6843 - accuracy: 0.7803 - val_loss: 0.4467 - val_accuracy: 0.8445 - lr: 0.0010\n",
      "Epoch 4/50\n",
      "177/177 [==============================] - ETA: 0s - loss: 0.6129 - accuracy: 0.8006\n",
      "Epoch 4: val_accuracy improved from 0.84450 to 0.85532, saving model to Best_points.h5\n",
      "177/177 [==============================] - 302s 2s/step - loss: 0.6129 - accuracy: 0.8006 - val_loss: 0.4159 - val_accuracy: 0.8553 - lr: 0.0010\n",
      "Epoch 5/50\n",
      "177/177 [==============================] - ETA: 0s - loss: 0.5659 - accuracy: 0.8136\n",
      "Epoch 5: val_accuracy improved from 0.85532 to 0.86290, saving model to Best_points.h5\n",
      "177/177 [==============================] - 291s 2s/step - loss: 0.5659 - accuracy: 0.8136 - val_loss: 0.3938 - val_accuracy: 0.8629 - lr: 0.0010\n",
      "Epoch 6/50\n",
      "177/177 [==============================] - ETA: 0s - loss: 0.5260 - accuracy: 0.8252\n",
      "Epoch 6: val_accuracy improved from 0.86290 to 0.86605, saving model to Best_points.h5\n",
      "177/177 [==============================] - 281s 2s/step - loss: 0.5260 - accuracy: 0.8252 - val_loss: 0.3860 - val_accuracy: 0.8660 - lr: 0.0010\n",
      "Epoch 7/50\n",
      "177/177 [==============================] - ETA: 0s - loss: 0.5031 - accuracy: 0.8325\n",
      "Epoch 7: val_accuracy improved from 0.86605 to 0.87168, saving model to Best_points.h5\n",
      "177/177 [==============================] - 269s 2s/step - loss: 0.5031 - accuracy: 0.8325 - val_loss: 0.3730 - val_accuracy: 0.8717 - lr: 0.0010\n",
      "Epoch 8/50\n",
      "177/177 [==============================] - ETA: 0s - loss: 0.4794 - accuracy: 0.8387\n",
      "Epoch 8: val_accuracy did not improve from 0.87168\n",
      "177/177 [==============================] - 272s 2s/step - loss: 0.4794 - accuracy: 0.8387 - val_loss: 0.3671 - val_accuracy: 0.8695 - lr: 0.0010\n",
      "Epoch 9/50\n",
      "177/177 [==============================] - ETA: 0s - loss: 0.4640 - accuracy: 0.8431\n",
      "Epoch 9: val_accuracy did not improve from 0.87168\n",
      "177/177 [==============================] - 273s 2s/step - loss: 0.4640 - accuracy: 0.8431 - val_loss: 0.3637 - val_accuracy: 0.8690 - lr: 0.0010\n",
      "Epoch 10/50\n",
      "177/177 [==============================] - ETA: 0s - loss: 0.4450 - accuracy: 0.8471\n",
      "Epoch 10: val_accuracy improved from 0.87168 to 0.87376, saving model to Best_points.h5\n",
      "177/177 [==============================] - 264s 1s/step - loss: 0.4450 - accuracy: 0.8471 - val_loss: 0.3575 - val_accuracy: 0.8738 - lr: 0.0010\n",
      "Epoch 11/50\n",
      "177/177 [==============================] - ETA: 0s - loss: 0.4314 - accuracy: 0.8527\n",
      "Epoch 11: val_accuracy improved from 0.87376 to 0.87699, saving model to Best_points.h5\n",
      "177/177 [==============================] - 263s 1s/step - loss: 0.4314 - accuracy: 0.8527 - val_loss: 0.3472 - val_accuracy: 0.8770 - lr: 0.0010\n",
      "Epoch 12/50\n",
      "177/177 [==============================] - ETA: 0s - loss: 0.4202 - accuracy: 0.8545\n",
      "Epoch 12: val_accuracy improved from 0.87699 to 0.87877, saving model to Best_points.h5\n",
      "177/177 [==============================] - 1040s 6s/step - loss: 0.4202 - accuracy: 0.8545 - val_loss: 0.3472 - val_accuracy: 0.8788 - lr: 0.0010\n",
      "Epoch 13/50\n",
      "177/177 [==============================] - ETA: 0s - loss: 0.4083 - accuracy: 0.8576\n",
      "Epoch 13: val_accuracy improved from 0.87877 to 0.87974, saving model to Best_points.h5\n",
      "177/177 [==============================] - 267s 2s/step - loss: 0.4083 - accuracy: 0.8576 - val_loss: 0.3418 - val_accuracy: 0.8797 - lr: 0.0010\n",
      "Epoch 14/50\n",
      "177/177 [==============================] - ETA: 0s - loss: 0.3978 - accuracy: 0.8606\n",
      "Epoch 14: val_accuracy did not improve from 0.87974\n",
      "177/177 [==============================] - 262s 1s/step - loss: 0.3978 - accuracy: 0.8606 - val_loss: 0.3501 - val_accuracy: 0.8772 - lr: 0.0010\n",
      "Epoch 15/50\n",
      "177/177 [==============================] - ETA: 0s - loss: 0.3888 - accuracy: 0.8644\n",
      "Epoch 15: val_accuracy improved from 0.87974 to 0.88245, saving model to Best_points.h5\n",
      "177/177 [==============================] - 269s 2s/step - loss: 0.3888 - accuracy: 0.8644 - val_loss: 0.3401 - val_accuracy: 0.8824 - lr: 0.0010\n",
      "Epoch 16/50\n",
      "177/177 [==============================] - ETA: 0s - loss: 0.3768 - accuracy: 0.8667\n",
      "Epoch 16: val_accuracy did not improve from 0.88245\n",
      "177/177 [==============================] - 271s 2s/step - loss: 0.3768 - accuracy: 0.8667 - val_loss: 0.3412 - val_accuracy: 0.8809 - lr: 0.0010\n",
      "Epoch 17/50\n",
      "177/177 [==============================] - ETA: 0s - loss: 0.3700 - accuracy: 0.8691\n",
      "Epoch 17: val_accuracy did not improve from 0.88245\n",
      "177/177 [==============================] - 275s 2s/step - loss: 0.3700 - accuracy: 0.8691 - val_loss: 0.3430 - val_accuracy: 0.8803 - lr: 0.0010\n",
      "Epoch 18/50\n",
      "177/177 [==============================] - ETA: 0s - loss: 0.3611 - accuracy: 0.8705\n",
      "Epoch 18: val_accuracy did not improve from 0.88245\n",
      "177/177 [==============================] - 275s 2s/step - loss: 0.3611 - accuracy: 0.8705 - val_loss: 0.3395 - val_accuracy: 0.8807 - lr: 0.0010\n"
     ]
    }
   ],
   "source": [
    "history = model.fit(train_x, train_y, epochs=50, batch_size=512, verbose=1, \\\n",
    "                    validation_data=(val_x, val_y),callbacks=[MCP,ES,RLP])"
   ]
  },
  {
   "cell_type": "code",
   "execution_count": 20,
   "id": "20bbbe16",
   "metadata": {},
   "outputs": [],
   "source": [
    "# plot accuracy and loss\n",
    "def plotgraph(epochs, acc, val_acc,title):\n",
    "    # Plot training & validation accuracy values\n",
    "    plt.plot(epochs, acc, 'b')\n",
    "    plt.plot(epochs, val_acc, 'r')\n",
    "    plt.title('Model accuracy')\n",
    "    plt.ylabel(title)\n",
    "    plt.xlabel('Epoch')\n",
    "    plt.legend(['Train', 'Val'], loc='upper left')\n",
    "    plt.show()"
   ]
  },
  {
   "cell_type": "code",
   "execution_count": 21,
   "id": "ee415ee0",
   "metadata": {},
   "outputs": [],
   "source": [
    "#%%\n",
    "acc = history.history['accuracy']\n",
    "val_acc = history.history['val_accuracy']\n",
    "loss = history.history['loss']\n",
    "val_loss = history.history['val_loss']\n",
    "epochs = range(1,len(acc)+1)"
   ]
  },
  {
   "cell_type": "code",
   "execution_count": 22,
   "id": "0ef3935f",
   "metadata": {},
   "outputs": [
    {
     "data": {
      "image/png": "[encoded data removed]",
      "text/plain": [
       "<Figure size 640x480 with 1 Axes>"
      ]
     },
     "metadata": {},
     "output_type": "display_data"
    }
   ],
   "source": [
    "# Accuracy curve\n",
    "plotgraph(epochs, acc, val_acc,\"accuracy\")"
   ]
  },
  {
   "cell_type": "code",
   "execution_count": 23,
   "id": "d978acc5",
   "metadata": {},
   "outputs": [
    {
     "data": {
      "image/png": "[encoded data removed]",
      "text/plain": [
       "<Figure size 640x480 with 1 Axes>"
      ]
     },
     "metadata": {},
     "output_type": "display_data"
    }
   ],
   "source": [
    "# loss curve\n",
    "plotgraph(epochs, loss, val_loss,\"loss\")"
   ]
  },
  {
   "cell_type": "code",
   "execution_count": 24,
   "id": "8303198e",
   "metadata": {},
   "outputs": [
    {
     "name": "stdout",
     "output_type": "stream",
     "text": [
      "Test loss: 0.35028523206710815\n",
      "Test accuracy: 0.8804723620414734\n"
     ]
    }
   ],
   "source": [
    "score = model.evaluate(test_x, test_y, verbose=0)\n",
    "print(\"Test loss:\", score[0])\n",
    "print(\"Test accuracy:\", score[1])"
   ]
  },
  {
   "cell_type": "code",
   "execution_count": 47,
   "id": "6a87656f",
   "metadata": {},
   "outputs": [],
   "source": [
    "newChar = cv2.imread(\"A.png\", 0)\n",
    "# print(newChar.shape)\n",
    "newChar = np.array(newChar)/255\n",
    "newChar.reshape(28,28)\n",
    "nChar = np.zeros((1,28,28,1))"
   ]
  },
  {
   "cell_type": "code",
   "execution_count": 48,
   "id": "4fb1f731",
   "metadata": {},
   "outputs": [
    {
     "name": "stdout",
     "output_type": "stream",
     "text": [
      "1/1 [==============================] - 0s 39ms/step\n",
      "[[2.58429864e-08 1.77328245e-13 1.33562841e-10 1.28983074e-13\n",
      "  1.79251813e-07 2.61082410e-12 6.04847401e-07 7.95447251e-17\n",
      "  1.42707108e-06 1.01618158e-10 1.90203832e-06 6.47900510e-04\n",
      "  1.01812499e-11 4.86901790e-08 8.22412694e-11 1.47313717e-09\n",
      "  4.27239155e-03 6.29470733e-08 5.68529911e-11 1.02443245e-11\n",
      "  3.57141204e-07 2.68303157e-11 2.06685559e-06 1.29961151e-07\n",
      "  1.71247772e-09 4.54245068e-08 9.40676332e-01 4.60638739e-06\n",
      "  9.12726752e-12 5.39726412e-13 4.12720134e-08 1.93661995e-13\n",
      "  4.07494867e-04 1.59619790e-10 3.79060283e-10 3.07196391e-12\n",
      "  2.74195791e-05 1.95873126e-05 2.12976265e-05 1.21855526e-10\n",
      "  3.25134231e-09 2.78785214e-04 3.22352030e-08 9.27717014e-09\n",
      "  5.36373146e-02 2.43584442e-09 1.16082721e-15]]\n"
     ]
    }
   ],
   "source": [
    "for i in range(28):\n",
    "  for j in range(28):\n",
    "    nChar[0][i][j][0] = newChar.T[i][j]\n",
    "\n",
    "\n",
    "prediction2 = model.predict(nChar)\n",
    "print(prediction2)\n",
    "\n",
    "pred = secondPred = predIndex = secondPredIndex = thirdPred = thirdPredIndex = 0"
   ]
  },
  {
   "cell_type": "code",
   "execution_count": 49,
   "id": "c68f9fcf",
   "metadata": {},
   "outputs": [],
   "source": [
    "labels_dict ={0:0,1:1,2:2,3:3,4:4,5:5,6:6,7:7,8:8,9:9,10:'A',11:'B',12:'C',13:'D',14:'E',15:'F',16:'G',17:'H',18:'I',19:'J',20:'K',21:'l',22:'M',23:'N',24:'O',25:'P',26:'Q',27:'R',28:'S',29:'T',30:'u',31:'V',32:'W',33:'X',34:'Y',35:'Z',36:'a',37:'b',38:'d',39:'e',40:'f',41:'g',42:'h',43:'n',44:'q',45:'r',46:'t'}"
   ]
  },
  {
   "cell_type": "code",
   "execution_count": 50,
   "id": "cdbb2def",
   "metadata": {},
   "outputs": [],
   "source": [
    "img_pred=labels_dict[np.argmax(prediction2[0])]"
   ]
  },
  {
   "cell_type": "code",
   "execution_count": 52,
   "id": "5435fb58",
   "metadata": {},
   "outputs": [
    {
     "name": "stdout",
     "output_type": "stream",
     "text": [
      "Q\n"
     ]
    }
   ],
   "source": [
    "print(img_pred)"
   ]
  },
  {
   "cell_type": "code",
   "execution_count": 72,
   "id": "2ef78970",
   "metadata": {},
   "outputs": [],
   "source": [
    "ascii_map = []\n",
    "for i in mapp.values:\n",
    "    ascii_map.append(i[0].split()[1])\n",
    "\n",
    "\n",
    "# Adding character to associated ASCII Value\n",
    "character = []\n",
    "for i in ascii_map:\n",
    "    character.append(chr(int(i)))\n",
    "# plt.imshow(np.rot90(np.fliplr(train_x[1].reshape(28,28))))\n",
    "character = pd.DataFrame(character)"
   ]
  },
  {
   "cell_type": "code",
   "execution_count": 73,
   "id": "9c9164c3",
   "metadata": {},
   "outputs": [],
   "source": [
    "ascii_map = pd.DataFrame(ascii_map)\n",
    "ascii_map[\"Character\"] = character\n",
    "ascii_map.to_csv(\"mapping.csv\",index=False,header=True)"
   ]
  },
  {
   "cell_type": "code",
   "execution_count": 74,
   "id": "d9f3135d",
   "metadata": {},
   "outputs": [
    {
     "name": "stdout",
     "output_type": "stream",
     "text": [
      "(28, 28, 3)\n",
      "1/1 [==============================] - 0s 37ms/step\n",
      "Prediction :  Q\n"
     ]
    },
    {
     "data": {
      "image/png": "[encoded data removed]",
      "text/plain": [
       "<Figure size 640x480 with 1 Axes>"
      ]
     },
     "metadata": {},
     "output_type": "display_data"
    }
   ],
   "source": [
    "from keras.preprocessing import image\n",
    "import cv2\n",
    "\n",
    "img_sh_lst = []\n",
    "img = tf.keras.utils.load_img(\"test4.png\",target_size=(28,28))\n",
    "x = tf.keras.utils.img_to_array(img)\n",
    "print(x.shape)\n",
    "x = x/255.0\n",
    "\n",
    "gray_image = cv2.cvtColor(x, cv2.COLOR_BGR2GRAY)\n",
    "gray_image = np.expand_dims(gray_image, axis=-1)\n",
    "plt.imshow(gray_image)\n",
    "gray_image = np.expand_dims(gray_image, axis=0)\n",
    "cl = model.predict(gray_image)\n",
    "cl = list(cl[0])\n",
    "\n",
    "print(\"Prediction : \",ascii_map[\"Character\"][cl.index(max(cl))])"
   ]
  },
  {
   "cell_type": "code",
   "execution_count": null,
   "id": "7e4f7f25",
   "metadata": {},
   "outputs": [],
   "source": []
  }
 ],
 "metadata": {
  "kernelspec": {
   "display_name": "Python 3 (ipykernel)",
   "language": "python",
   "name": "python3"
  },
  "language_info": {
   "codemirror_mode": {
    "name": "ipython",
    "version": 3
   },
   "file_extension": ".py",
   "mimetype": "text/x-python",
   "name": "python",
   "nbconvert_exporter": "python",
   "pygments_lexer": "ipython3",
   "version": "3.9.13"
  }
 },
 "nbformat": 4,
 "nbformat_minor": 5
}
