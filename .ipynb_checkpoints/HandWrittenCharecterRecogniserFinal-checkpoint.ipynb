{
 "cells": [
  {
   "cell_type": "code",
   "execution_count": 1,
   "id": "37a72670",
   "metadata": {},
   "outputs": [],
   "source": [
    "import numpy as np\n",
    "import pandas as pd\n",
    "import tensorflow as tf\n",
    "import matplotlib.pyplot as plt\n",
    "from keras.layers import Conv2D, MaxPool2D, Flatten, Dense, Dropout, BatchNormalization\n",
    "from keras.models import Sequential,load_model\n",
    "import keras"
   ]
  },
  {
   "cell_type": "code",
   "execution_count": 2,
   "id": "f833095b",
   "metadata": {},
   "outputs": [],
   "source": [
    "train_images = pd.read_csv(\"emnist-balanced-train.csv\",header=None)\n",
    "test_images = pd.read_csv(\"emnist-balanced-test.csv\",header=None)\n",
    "map_images = pd.read_csv(\"emnist-balanced-mapping.txt\",header=None) \n",
    "#The 1st row would be treated as header if not set header to none."
   ]
  },
  {
   "cell_type": "code",
   "execution_count": 3,
   "id": "17eaf70a",
   "metadata": {},
   "outputs": [
    {
     "data": {
      "text/html": [
       "<div>\n",
       "<style scoped>\n",
       "    .dataframe tbody tr th:only-of-type {\n",
       "        vertical-align: middle;\n",
       "    }\n",
       "\n",
       "    .dataframe tbody tr th {\n",
       "        vertical-align: top;\n",
       "    }\n",
       "\n",
       "    .dataframe thead th {\n",
       "        text-align: right;\n",
       "    }\n",
       "</style>\n",
       "<table border=\"1\" class=\"dataframe\">\n",
       "  <thead>\n",
       "    <tr style=\"text-align: right;\">\n",
       "      <th></th>\n",
       "      <th>0</th>\n",
       "      <th>1</th>\n",
       "      <th>2</th>\n",
       "      <th>3</th>\n",
       "      <th>4</th>\n",
       "      <th>5</th>\n",
       "      <th>6</th>\n",
       "      <th>7</th>\n",
       "      <th>8</th>\n",
       "      <th>9</th>\n",
       "      <th>...</th>\n",
       "      <th>775</th>\n",
       "      <th>776</th>\n",
       "      <th>777</th>\n",
       "      <th>778</th>\n",
       "      <th>779</th>\n",
       "      <th>780</th>\n",
       "      <th>781</th>\n",
       "      <th>782</th>\n",
       "      <th>783</th>\n",
       "      <th>784</th>\n",
       "    </tr>\n",
       "  </thead>\n",
       "  <tbody>\n",
       "    <tr>\n",
       "      <th>0</th>\n",
       "      <td>45</td>\n",
       "      <td>0</td>\n",
       "      <td>0</td>\n",
       "      <td>0</td>\n",
       "      <td>0</td>\n",
       "      <td>0</td>\n",
       "      <td>0</td>\n",
       "      <td>0</td>\n",
       "      <td>0</td>\n",
       "      <td>0</td>\n",
       "      <td>...</td>\n",
       "      <td>0</td>\n",
       "      <td>0</td>\n",
       "      <td>0</td>\n",
       "      <td>0</td>\n",
       "      <td>0</td>\n",
       "      <td>0</td>\n",
       "      <td>0</td>\n",
       "      <td>0</td>\n",
       "      <td>0</td>\n",
       "      <td>0</td>\n",
       "    </tr>\n",
       "    <tr>\n",
       "      <th>1</th>\n",
       "      <td>36</td>\n",
       "      <td>0</td>\n",
       "      <td>0</td>\n",
       "      <td>0</td>\n",
       "      <td>0</td>\n",
       "      <td>0</td>\n",
       "      <td>0</td>\n",
       "      <td>0</td>\n",
       "      <td>0</td>\n",
       "      <td>0</td>\n",
       "      <td>...</td>\n",
       "      <td>0</td>\n",
       "      <td>0</td>\n",
       "      <td>0</td>\n",
       "      <td>0</td>\n",
       "      <td>0</td>\n",
       "      <td>0</td>\n",
       "      <td>0</td>\n",
       "      <td>0</td>\n",
       "      <td>0</td>\n",
       "      <td>0</td>\n",
       "    </tr>\n",
       "    <tr>\n",
       "      <th>2</th>\n",
       "      <td>43</td>\n",
       "      <td>0</td>\n",
       "      <td>0</td>\n",
       "      <td>0</td>\n",
       "      <td>0</td>\n",
       "      <td>0</td>\n",
       "      <td>0</td>\n",
       "      <td>0</td>\n",
       "      <td>0</td>\n",
       "      <td>0</td>\n",
       "      <td>...</td>\n",
       "      <td>0</td>\n",
       "      <td>0</td>\n",
       "      <td>0</td>\n",
       "      <td>0</td>\n",
       "      <td>0</td>\n",
       "      <td>0</td>\n",
       "      <td>0</td>\n",
       "      <td>0</td>\n",
       "      <td>0</td>\n",
       "      <td>0</td>\n",
       "    </tr>\n",
       "    <tr>\n",
       "      <th>3</th>\n",
       "      <td>15</td>\n",
       "      <td>0</td>\n",
       "      <td>0</td>\n",
       "      <td>0</td>\n",
       "      <td>0</td>\n",
       "      <td>0</td>\n",
       "      <td>0</td>\n",
       "      <td>0</td>\n",
       "      <td>0</td>\n",
       "      <td>0</td>\n",
       "      <td>...</td>\n",
       "      <td>0</td>\n",
       "      <td>0</td>\n",
       "      <td>0</td>\n",
       "      <td>0</td>\n",
       "      <td>0</td>\n",
       "      <td>0</td>\n",
       "      <td>0</td>\n",
       "      <td>0</td>\n",
       "      <td>0</td>\n",
       "      <td>0</td>\n",
       "    </tr>\n",
       "    <tr>\n",
       "      <th>4</th>\n",
       "      <td>4</td>\n",
       "      <td>0</td>\n",
       "      <td>0</td>\n",
       "      <td>0</td>\n",
       "      <td>0</td>\n",
       "      <td>0</td>\n",
       "      <td>0</td>\n",
       "      <td>0</td>\n",
       "      <td>0</td>\n",
       "      <td>0</td>\n",
       "      <td>...</td>\n",
       "      <td>0</td>\n",
       "      <td>0</td>\n",
       "      <td>0</td>\n",
       "      <td>0</td>\n",
       "      <td>0</td>\n",
       "      <td>0</td>\n",
       "      <td>0</td>\n",
       "      <td>0</td>\n",
       "      <td>0</td>\n",
       "      <td>0</td>\n",
       "    </tr>\n",
       "    <tr>\n",
       "      <th>...</th>\n",
       "      <td>...</td>\n",
       "      <td>...</td>\n",
       "      <td>...</td>\n",
       "      <td>...</td>\n",
       "      <td>...</td>\n",
       "      <td>...</td>\n",
       "      <td>...</td>\n",
       "      <td>...</td>\n",
       "      <td>...</td>\n",
       "      <td>...</td>\n",
       "      <td>...</td>\n",
       "      <td>...</td>\n",
       "      <td>...</td>\n",
       "      <td>...</td>\n",
       "      <td>...</td>\n",
       "      <td>...</td>\n",
       "      <td>...</td>\n",
       "      <td>...</td>\n",
       "      <td>...</td>\n",
       "      <td>...</td>\n",
       "      <td>...</td>\n",
       "    </tr>\n",
       "    <tr>\n",
       "      <th>112795</th>\n",
       "      <td>22</td>\n",
       "      <td>0</td>\n",
       "      <td>0</td>\n",
       "      <td>0</td>\n",
       "      <td>0</td>\n",
       "      <td>0</td>\n",
       "      <td>0</td>\n",
       "      <td>0</td>\n",
       "      <td>0</td>\n",
       "      <td>0</td>\n",
       "      <td>...</td>\n",
       "      <td>0</td>\n",
       "      <td>0</td>\n",
       "      <td>0</td>\n",
       "      <td>0</td>\n",
       "      <td>0</td>\n",
       "      <td>0</td>\n",
       "      <td>0</td>\n",
       "      <td>0</td>\n",
       "      <td>0</td>\n",
       "      <td>0</td>\n",
       "    </tr>\n",
       "    <tr>\n",
       "      <th>112796</th>\n",
       "      <td>17</td>\n",
       "      <td>0</td>\n",
       "      <td>0</td>\n",
       "      <td>0</td>\n",
       "      <td>0</td>\n",
       "      <td>0</td>\n",
       "      <td>0</td>\n",
       "      <td>0</td>\n",
       "      <td>0</td>\n",
       "      <td>0</td>\n",
       "      <td>...</td>\n",
       "      <td>0</td>\n",
       "      <td>0</td>\n",
       "      <td>0</td>\n",
       "      <td>0</td>\n",
       "      <td>0</td>\n",
       "      <td>0</td>\n",
       "      <td>0</td>\n",
       "      <td>0</td>\n",
       "      <td>0</td>\n",
       "      <td>0</td>\n",
       "    </tr>\n",
       "    <tr>\n",
       "      <th>112797</th>\n",
       "      <td>23</td>\n",
       "      <td>0</td>\n",
       "      <td>0</td>\n",
       "      <td>0</td>\n",
       "      <td>0</td>\n",
       "      <td>0</td>\n",
       "      <td>0</td>\n",
       "      <td>0</td>\n",
       "      <td>0</td>\n",
       "      <td>0</td>\n",
       "      <td>...</td>\n",
       "      <td>0</td>\n",
       "      <td>0</td>\n",
       "      <td>0</td>\n",
       "      <td>0</td>\n",
       "      <td>0</td>\n",
       "      <td>0</td>\n",
       "      <td>0</td>\n",
       "      <td>0</td>\n",
       "      <td>0</td>\n",
       "      <td>0</td>\n",
       "    </tr>\n",
       "    <tr>\n",
       "      <th>112798</th>\n",
       "      <td>31</td>\n",
       "      <td>0</td>\n",
       "      <td>0</td>\n",
       "      <td>0</td>\n",
       "      <td>0</td>\n",
       "      <td>0</td>\n",
       "      <td>0</td>\n",
       "      <td>0</td>\n",
       "      <td>0</td>\n",
       "      <td>0</td>\n",
       "      <td>...</td>\n",
       "      <td>0</td>\n",
       "      <td>0</td>\n",
       "      <td>0</td>\n",
       "      <td>0</td>\n",
       "      <td>0</td>\n",
       "      <td>0</td>\n",
       "      <td>0</td>\n",
       "      <td>0</td>\n",
       "      <td>0</td>\n",
       "      <td>0</td>\n",
       "    </tr>\n",
       "    <tr>\n",
       "      <th>112799</th>\n",
       "      <td>8</td>\n",
       "      <td>0</td>\n",
       "      <td>0</td>\n",
       "      <td>0</td>\n",
       "      <td>0</td>\n",
       "      <td>0</td>\n",
       "      <td>0</td>\n",
       "      <td>0</td>\n",
       "      <td>0</td>\n",
       "      <td>0</td>\n",
       "      <td>...</td>\n",
       "      <td>0</td>\n",
       "      <td>0</td>\n",
       "      <td>0</td>\n",
       "      <td>0</td>\n",
       "      <td>0</td>\n",
       "      <td>0</td>\n",
       "      <td>0</td>\n",
       "      <td>0</td>\n",
       "      <td>0</td>\n",
       "      <td>0</td>\n",
       "    </tr>\n",
       "  </tbody>\n",
       "</table>\n",
       "<p>112800 rows × 785 columns</p>\n",
       "</div>"
      ],
      "text/plain": [
       "        0    1    2    3    4    5    6    7    8    9    ...  775  776  777  \\\n",
       "0        45    0    0    0    0    0    0    0    0    0  ...    0    0    0   \n",
       "1        36    0    0    0    0    0    0    0    0    0  ...    0    0    0   \n",
       "2        43    0    0    0    0    0    0    0    0    0  ...    0    0    0   \n",
       "3        15    0    0    0    0    0    0    0    0    0  ...    0    0    0   \n",
       "4         4    0    0    0    0    0    0    0    0    0  ...    0    0    0   \n",
       "...     ...  ...  ...  ...  ...  ...  ...  ...  ...  ...  ...  ...  ...  ...   \n",
       "112795   22    0    0    0    0    0    0    0    0    0  ...    0    0    0   \n",
       "112796   17    0    0    0    0    0    0    0    0    0  ...    0    0    0   \n",
       "112797   23    0    0    0    0    0    0    0    0    0  ...    0    0    0   \n",
       "112798   31    0    0    0    0    0    0    0    0    0  ...    0    0    0   \n",
       "112799    8    0    0    0    0    0    0    0    0    0  ...    0    0    0   \n",
       "\n",
       "        778  779  780  781  782  783  784  \n",
       "0         0    0    0    0    0    0    0  \n",
       "1         0    0    0    0    0    0    0  \n",
       "2         0    0    0    0    0    0    0  \n",
       "3         0    0    0    0    0    0    0  \n",
       "4         0    0    0    0    0    0    0  \n",
       "...     ...  ...  ...  ...  ...  ...  ...  \n",
       "112795    0    0    0    0    0    0    0  \n",
       "112796    0    0    0    0    0    0    0  \n",
       "112797    0    0    0    0    0    0    0  \n",
       "112798    0    0    0    0    0    0    0  \n",
       "112799    0    0    0    0    0    0    0  \n",
       "\n",
       "[112800 rows x 785 columns]"
      ]
     },
     "execution_count": 3,
     "metadata": {},
     "output_type": "execute_result"
    }
   ],
   "source": [
    "train_images"
   ]
  },
  {
   "cell_type": "code",
   "execution_count": 4,
   "id": "6c0498a6",
   "metadata": {},
   "outputs": [
    {
     "name": "stdout",
     "output_type": "stream",
     "text": [
      "a\n"
     ]
    },
    {
     "data": {
      "image/png": "[encoded data removed]",
      "text/plain": [
       "<Figure size 640x480 with 1 Axes>"
      ]
     },
     "metadata": {},
     "output_type": "display_data"
    }
   ],
   "source": [
    "plt.imshow(np.rot90(np.fliplr(train_images.iloc[1,1:].values.reshape(28,28)))) ## We'll learn about this later\n",
    "print(chr(97)) # 36 in labels column maps to 36 --> 97 in map_images "
   ]
  },
  {
   "cell_type": "markdown",
   "id": "d372d49f",
   "metadata": {},
   "source": [
    "# Data Preprocessing"
   ]
  },
  {
   "cell_type": "code",
   "execution_count": 7,
   "id": "c8932290",
   "metadata": {},
   "outputs": [
    {
     "data": {
      "text/plain": [
       "<matplotlib.image.AxesImage at 0x1de3118b040>"
      ]
     },
     "execution_count": 7,
     "metadata": {},
     "output_type": "execute_result"
    },
    {
     "data": {
      "image/png": "[encoded data removed]",
      "text/plain": [
       "<Figure size 640x480 with 1 Axes>"
      ]
     },
     "metadata": {},
     "output_type": "display_data"
    }
   ],
   "source": [
    "# Seperating labels from features in training and test data.\n",
    "train_x = train_images.iloc[:,1:]  \n",
    "train_y = train_images.iloc[:,0]  \n",
    "train_x = train_x.values\n",
    "\n",
    "test_x = test_images.iloc[:,1:]\n",
    "test_y = test_images.iloc[:,0]\n",
    "test_x = test_x.values\n",
    "\n",
    "# ascii_map just for the convenince, i've removed the first column in map_images.\n",
    "ascii_map = []\n",
    "for i in map_images.values:\n",
    "    ascii_map.append(i[0].split()[1])\n",
    "\n",
    "# Uncomment the below line to know about the labels present in our dataset\n",
    "# for i in ascii_map: \n",
    "#     print(chr(int(i)))\n",
    "plt.imshow(np.rot90(np.fliplr(train_x[1].reshape(28,28))))"
   ]
  },
  {
   "cell_type": "code",
   "execution_count": 8,
   "id": "80e9008c",
   "metadata": {},
   "outputs": [],
   "source": [
    "# The images in train_images are not in a proper orientation,hence to make them appropriate for training & testing data.\n",
    "\n",
    "def rot_flip(image):\n",
    "    image = image.reshape([28, 28])\n",
    "    image = np.fliplr(image)\n",
    "    image = np.rot90(image)\n",
    "    return image"
   ]
  },
  {
   "cell_type": "code",
   "execution_count": 9,
   "id": "25b53b01",
   "metadata": {},
   "outputs": [
    {
     "data": {
      "text/plain": [
       "(112800, 28, 28)"
      ]
     },
     "execution_count": 9,
     "metadata": {},
     "output_type": "execute_result"
    },
    {
     "data": {
      "image/png": "[encoded data removed]",
      "text/plain": [
       "<Figure size 640x480 with 1 Axes>"
      ]
     },
     "metadata": {},
     "output_type": "display_data"
    }
   ],
   "source": [
    "train_x = np.apply_along_axis(rot_flip,1,train_x)\n",
    "test_x = np.apply_along_axis(rot_flip,1,test_x)\n",
    "plt.imshow(train_x[2])\n",
    "train_x.shape"
   ]
  },
  {
   "cell_type": "code",
   "execution_count": 10,
   "id": "b5016aa9",
   "metadata": {},
   "outputs": [],
   "source": [
    "train_x = train_x.astype('float32')\n",
    "train_x = train_x/255.0\n",
    "\n",
    "test_x = test_x.astype('float32')\n",
    "test_x = test_x/255.0\n",
    "\n",
    "train_x = train_x.reshape(-1, 28,28, 1)   #Equivalent to (112800,28,28,1)\n",
    "test_x = test_x.reshape(-1, 28,28, 1)  "
   ]
  },
  {
   "cell_type": "code",
   "execution_count": 11,
   "id": "d5baa9e0",
   "metadata": {},
   "outputs": [],
   "source": [
    "model = Sequential()\n",
    "model.add(Conv2D(32,(3,3),input_shape = (28,28,1),activation = 'relu'))\n",
    "model.add(Conv2D(64,(3,3),activation = 'relu'))\n",
    "model.add(MaxPool2D(2,2))\n",
    "model.add(Dropout(0.25))\n",
    "model.add(Flatten())\n",
    "model.add(Dense(128,activation='relu'))\n",
    "model.add(Dropout(0.5))\n",
    "model.add(Dense(47,activation='softmax'))"
   ]
  },
  {
   "cell_type": "code",
   "execution_count": 12,
   "id": "f3d3edce",
   "metadata": {},
   "outputs": [
    {
     "name": "stdout",
     "output_type": "stream",
     "text": [
      "Model: \"sequential\"\n",
      "_________________________________________________________________\n",
      " Layer (type)                Output Shape              Param #   \n",
      "=================================================================\n",
      " conv2d (Conv2D)             (None, 26, 26, 32)        320       \n",
      "                                                                 \n",
      " conv2d_1 (Conv2D)           (None, 24, 24, 64)        18496     \n",
      "                                                                 \n",
      " max_pooling2d (MaxPooling2D  (None, 12, 12, 64)       0         \n",
      " )                                                               \n",
      "                                                                 \n",
      " dropout (Dropout)           (None, 12, 12, 64)        0         \n",
      "                                                                 \n",
      " flatten (Flatten)           (None, 9216)              0         \n",
      "                                                                 \n",
      " dense (Dense)               (None, 128)               1179776   \n",
      "                                                                 \n",
      " dropout_1 (Dropout)         (None, 128)               0         \n",
      "                                                                 \n",
      " dense_1 (Dense)             (None, 47)                6063      \n",
      "                                                                 \n",
      "=================================================================\n",
      "Total params: 1,204,655\n",
      "Trainable params: 1,204,655\n",
      "Non-trainable params: 0\n",
      "_________________________________________________________________\n"
     ]
    }
   ],
   "source": [
    "model.compile(optimizer = 'adam',loss= \"sparse_categorical_crossentropy\", metrics=['accuracy'])\n",
    "model.summary()"
   ]
  },
  {
   "cell_type": "code",
   "execution_count": 13,
   "id": "0a1cef48",
   "metadata": {},
   "outputs": [
    {
     "name": "stdout",
     "output_type": "stream",
     "text": [
      "Epoch 1/20\n",
      "3525/3525 [==============================] - 369s 103ms/step - loss: 1.0678 - accuracy: 0.6750 - val_loss: 0.4851 - val_accuracy: 0.8382\n",
      "Epoch 2/20\n",
      "3525/3525 [==============================] - 397s 113ms/step - loss: 0.6622 - accuracy: 0.7835 - val_loss: 0.4256 - val_accuracy: 0.8561\n",
      "Epoch 3/20\n",
      "3525/3525 [==============================] - 349s 99ms/step - loss: 0.5803 - accuracy: 0.8071 - val_loss: 0.4095 - val_accuracy: 0.8610\n",
      "Epoch 4/20\n",
      "3525/3525 [==============================] - 331s 94ms/step - loss: 0.5306 - accuracy: 0.8220 - val_loss: 0.3813 - val_accuracy: 0.8659\n",
      "Epoch 5/20\n",
      "3525/3525 [==============================] - 349s 99ms/step - loss: 0.4967 - accuracy: 0.8320 - val_loss: 0.3844 - val_accuracy: 0.8668\n",
      "Epoch 6/20\n",
      "3525/3525 [==============================] - 354s 100ms/step - loss: 0.4670 - accuracy: 0.8390 - val_loss: 0.3710 - val_accuracy: 0.8729\n",
      "Epoch 7/20\n",
      "3525/3525 [==============================] - 351s 100ms/step - loss: 0.4494 - accuracy: 0.8446 - val_loss: 0.3766 - val_accuracy: 0.8735\n",
      "Epoch 8/20\n",
      "3525/3525 [==============================] - 358s 102ms/step - loss: 0.4301 - accuracy: 0.8501 - val_loss: 0.3799 - val_accuracy: 0.8695\n",
      "Epoch 9/20\n",
      "3525/3525 [==============================] - 357s 101ms/step - loss: 0.4167 - accuracy: 0.8525 - val_loss: 0.3713 - val_accuracy: 0.8762\n",
      "Epoch 10/20\n",
      "3525/3525 [==============================] - 350s 99ms/step - loss: 0.4002 - accuracy: 0.8575 - val_loss: 0.3723 - val_accuracy: 0.8765\n",
      "Epoch 11/20\n",
      "3525/3525 [==============================] - 358s 101ms/step - loss: 0.3900 - accuracy: 0.8601 - val_loss: 0.3770 - val_accuracy: 0.8751\n",
      "Epoch 12/20\n",
      "3525/3525 [==============================] - 350s 99ms/step - loss: 0.3833 - accuracy: 0.8627 - val_loss: 0.3721 - val_accuracy: 0.8741\n",
      "Epoch 13/20\n",
      "3525/3525 [==============================] - 350s 99ms/step - loss: 0.3681 - accuracy: 0.8671 - val_loss: 0.3741 - val_accuracy: 0.8737\n",
      "Epoch 14/20\n",
      "3525/3525 [==============================] - 367s 104ms/step - loss: 0.3635 - accuracy: 0.8688 - val_loss: 0.3689 - val_accuracy: 0.8797\n",
      "Epoch 15/20\n",
      "3525/3525 [==============================] - 348s 99ms/step - loss: 0.3562 - accuracy: 0.8706 - val_loss: 0.3655 - val_accuracy: 0.8794\n",
      "Epoch 16/20\n",
      "3525/3525 [==============================] - 336s 95ms/step - loss: 0.3464 - accuracy: 0.8735 - val_loss: 0.3772 - val_accuracy: 0.8787\n",
      "Epoch 17/20\n",
      "3525/3525 [==============================] - 355s 101ms/step - loss: 0.3413 - accuracy: 0.8737 - val_loss: 0.3781 - val_accuracy: 0.8798\n",
      "Epoch 18/20\n",
      "3525/3525 [==============================] - 353s 100ms/step - loss: 0.3352 - accuracy: 0.8769 - val_loss: 0.3882 - val_accuracy: 0.8782\n",
      "Epoch 19/20\n",
      "3525/3525 [==============================] - 358s 102ms/step - loss: 0.3301 - accuracy: 0.8786 - val_loss: 0.3782 - val_accuracy: 0.8792\n",
      "Epoch 20/20\n",
      "3525/3525 [==============================] - 364s 103ms/step - loss: 0.3277 - accuracy: 0.8788 - val_loss: 0.3783 - val_accuracy: 0.8809\n"
     ]
    }
   ],
   "source": [
    "history = model.fit(\n",
    "    train_x,\n",
    "    train_y,\n",
    "    validation_data = (test_x,test_y),\n",
    "    epochs = 20,\n",
    ")"
   ]
  },
  {
   "cell_type": "code",
   "execution_count": 14,
   "id": "69127ec0",
   "metadata": {},
   "outputs": [],
   "source": [
    "# plot accuracy and loss\n",
    "def plotgraph(epochs, acc, val_acc,title):\n",
    "    # Plot training & validation accuracy values\n",
    "    plt.plot(epochs, acc, 'b')\n",
    "    plt.plot(epochs, val_acc, 'r')\n",
    "    plt.title('Model accuracy')\n",
    "    plt.ylabel(title)\n",
    "    plt.xlabel('Epoch')\n",
    "    plt.legend(['Train', 'Val'], loc='upper left')\n",
    "    plt.show()"
   ]
  },
  {
   "cell_type": "code",
   "execution_count": 15,
   "id": "e4dee8d0",
   "metadata": {},
   "outputs": [],
   "source": [
    "#%%\n",
    "acc = history.history['accuracy']\n",
    "val_acc = history.history['val_accuracy']\n",
    "loss = history.history['loss']\n",
    "val_loss = history.history['val_loss']\n",
    "epochs = range(1,len(acc)+1)"
   ]
  },
  {
   "cell_type": "code",
   "execution_count": 16,
   "id": "c8c006a1",
   "metadata": {},
   "outputs": [
    {
     "data": {
      "image/png": "[encoded data removed]",
      "text/plain": [
       "<Figure size 640x480 with 1 Axes>"
      ]
     },
     "metadata": {},
     "output_type": "display_data"
    }
   ],
   "source": [
    "# Accuracy curve\n",
    "plotgraph(epochs, acc, val_acc,\"accuracy\")"
   ]
  },
  {
   "cell_type": "code",
   "execution_count": 17,
   "id": "7a11550c",
   "metadata": {},
   "outputs": [
    {
     "data": {
      "image/png": "[encoded data removed]",
      "text/plain": [
       "<Figure size 640x480 with 1 Axes>"
      ]
     },
     "metadata": {},
     "output_type": "display_data"
    }
   ],
   "source": [
    "# loss curve\n",
    "plotgraph(epochs, loss, val_loss,\"loss\")"
   ]
  },
  {
   "cell_type": "code",
   "execution_count": 18,
   "id": "3134c092",
   "metadata": {},
   "outputs": [
    {
     "name": "stdout",
     "output_type": "stream",
     "text": [
      "Test loss: 0.3783073127269745\n",
      "Test accuracy: 0.8808510899543762\n"
     ]
    }
   ],
   "source": [
    "score = model.evaluate(test_x, test_y, verbose=0)\n",
    "print(\"Test loss:\", score[0])\n",
    "print(\"Test accuracy:\", score[1])"
   ]
  },
  {
   "cell_type": "code",
   "execution_count": 25,
   "id": "f9383548",
   "metadata": {},
   "outputs": [],
   "source": [
    "ascii_map = []\n",
    "for i in map_images.values:\n",
    "    ascii_map.append(i[0].split()[1])\n",
    "\n",
    "\n",
    "# Adding character to associated ASCII Value\n",
    "character = []\n",
    "for i in ascii_map:\n",
    "    character.append(chr(int(i)))\n",
    "# plt.imshow(np.rot90(np.fliplr(train_x[1].reshape(28,28))))\n",
    "character = pd.DataFrame(character)"
   ]
  },
  {
   "cell_type": "code",
   "execution_count": 26,
   "id": "f7c88fa9",
   "metadata": {},
   "outputs": [],
   "source": [
    "ascii_map = pd.DataFrame(ascii_map)\n",
    "ascii_map[\"Character\"] = character\n",
    "ascii_map.to_csv(\"mapping.csv\",index=False,header=True)"
   ]
  },
  {
   "cell_type": "code",
   "execution_count": 36,
   "id": "8da8b7bd",
   "metadata": {},
   "outputs": [
    {
     "name": "stdout",
     "output_type": "stream",
     "text": [
      "(28, 28, 3)\n",
      "1/1 [==============================] - 0s 47ms/step\n",
      "Prediction :  B\n"
     ]
    },
    {
     "data": {
      "image/png": "[encoded data removed]",
      "text/plain": [
       "<Figure size 640x480 with 1 Axes>"
      ]
     },
     "metadata": {},
     "output_type": "display_data"
    }
   ],
   "source": [
    "from keras.preprocessing import image\n",
    "import cv2\n",
    "\n",
    "img_sh_lst = []\n",
    "img = tf.keras.utils.load_img(\"D.png\",target_size=(28,28))\n",
    "x = tf.keras.utils.img_to_array(img)\n",
    "print(x.shape)\n",
    "x = x/255.0\n",
    "\n",
    "gray_image = cv2.cvtColor(x, cv2.COLOR_BGR2GRAY)\n",
    "gray_image = np.expand_dims(gray_image, axis=-1)\n",
    "plt.imshow(gray_image)\n",
    "gray_image = np.expand_dims(gray_image, axis=0)\n",
    "cl = model.predict(gray_image)\n",
    "cl = list(cl[0])\n",
    "\n",
    "print(\"Prediction : \",ascii_map[\"Character\"][cl.index(max(cl))])"
   ]
  },
  {
   "cell_type": "code",
   "execution_count": null,
   "id": "1b7487b7",
   "metadata": {},
   "outputs": [],
   "source": []
  }
 ],
 "metadata": {
  "kernelspec": {
   "display_name": "Python 3 (ipykernel)",
   "language": "python",
   "name": "python3"
  },
  "language_info": {
   "codemirror_mode": {
    "name": "ipython",
    "version": 3
   },
   "file_extension": ".py",
   "mimetype": "text/x-python",
   "name": "python",
   "nbconvert_exporter": "python",
   "pygments_lexer": "ipython3",
   "version": "3.9.13"
  }
 },
 "nbformat": 4,
 "nbformat_minor": 5
}
