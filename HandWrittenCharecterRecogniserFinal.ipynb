{
 "cells": [
  {
   "cell_type": "code",
   "execution_count": 2,
   "id": "37a72670",
   "metadata": {},
   "outputs": [],
   "source": [
    "import numpy as np\n",
    "import pandas as pd\n",
    "import tensorflow as tf\n",
    "import matplotlib.pyplot as plt\n",
    "from keras.layers import Conv2D, MaxPool2D, Flatten, Dense, Dropout, BatchNormalization\n",
    "from keras.models import Sequential,load_model\n",
    "import keras"
   ]
  },
  {
   "cell_type": "code",
   "execution_count": 3,
   "id": "f833095b",
   "metadata": {},
   "outputs": [],
   "source": [
    "train_images = pd.read_csv(\"emnist-balanced-train.csv\",header=None)\n",
    "test_images = pd.read_csv(\"emnist-balanced-test.csv\",header=None)\n",
    "map_images = pd.read_csv(\"emnist-balanced-mapping.txt\",header=None) \n",
    "#The 1st row would be treated as header if not set header to none."
   ]
  },
  {
   "cell_type": "code",
   "execution_count": 4,
   "id": "17eaf70a",
   "metadata": {},
   "outputs": [
    {
     "data": {
      "text/html": [
       "<div>\n",
       "<style scoped>\n",
       "    .dataframe tbody tr th:only-of-type {\n",
       "        vertical-align: middle;\n",
       "    }\n",
       "\n",
       "    .dataframe tbody tr th {\n",
       "        vertical-align: top;\n",
       "    }\n",
       "\n",
       "    .dataframe thead th {\n",
       "        text-align: right;\n",
       "    }\n",
       "</style>\n",
       "<table border=\"1\" class=\"dataframe\">\n",
       "  <thead>\n",
       "    <tr style=\"text-align: right;\">\n",
       "      <th></th>\n",
       "      <th>0</th>\n",
       "      <th>1</th>\n",
       "      <th>2</th>\n",
       "      <th>3</th>\n",
       "      <th>4</th>\n",
       "      <th>5</th>\n",
       "      <th>6</th>\n",
       "      <th>7</th>\n",
       "      <th>8</th>\n",
       "      <th>9</th>\n",
       "      <th>...</th>\n",
       "      <th>775</th>\n",
       "      <th>776</th>\n",
       "      <th>777</th>\n",
       "      <th>778</th>\n",
       "      <th>779</th>\n",
       "      <th>780</th>\n",
       "      <th>781</th>\n",
       "      <th>782</th>\n",
       "      <th>783</th>\n",
       "      <th>784</th>\n",
       "    </tr>\n",
       "  </thead>\n",
       "  <tbody>\n",
       "    <tr>\n",
       "      <th>0</th>\n",
       "      <td>45</td>\n",
       "      <td>0</td>\n",
       "      <td>0</td>\n",
       "      <td>0</td>\n",
       "      <td>0</td>\n",
       "      <td>0</td>\n",
       "      <td>0</td>\n",
       "      <td>0</td>\n",
       "      <td>0</td>\n",
       "      <td>0</td>\n",
       "      <td>...</td>\n",
       "      <td>0</td>\n",
       "      <td>0</td>\n",
       "      <td>0</td>\n",
       "      <td>0</td>\n",
       "      <td>0</td>\n",
       "      <td>0</td>\n",
       "      <td>0</td>\n",
       "      <td>0</td>\n",
       "      <td>0</td>\n",
       "      <td>0</td>\n",
       "    </tr>\n",
       "    <tr>\n",
       "      <th>1</th>\n",
       "      <td>36</td>\n",
       "      <td>0</td>\n",
       "      <td>0</td>\n",
       "      <td>0</td>\n",
       "      <td>0</td>\n",
       "      <td>0</td>\n",
       "      <td>0</td>\n",
       "      <td>0</td>\n",
       "      <td>0</td>\n",
       "      <td>0</td>\n",
       "      <td>...</td>\n",
       "      <td>0</td>\n",
       "      <td>0</td>\n",
       "      <td>0</td>\n",
       "      <td>0</td>\n",
       "      <td>0</td>\n",
       "      <td>0</td>\n",
       "      <td>0</td>\n",
       "      <td>0</td>\n",
       "      <td>0</td>\n",
       "      <td>0</td>\n",
       "    </tr>\n",
       "    <tr>\n",
       "      <th>2</th>\n",
       "      <td>43</td>\n",
       "      <td>0</td>\n",
       "      <td>0</td>\n",
       "      <td>0</td>\n",
       "      <td>0</td>\n",
       "      <td>0</td>\n",
       "      <td>0</td>\n",
       "      <td>0</td>\n",
       "      <td>0</td>\n",
       "      <td>0</td>\n",
       "      <td>...</td>\n",
       "      <td>0</td>\n",
       "      <td>0</td>\n",
       "      <td>0</td>\n",
       "      <td>0</td>\n",
       "      <td>0</td>\n",
       "      <td>0</td>\n",
       "      <td>0</td>\n",
       "      <td>0</td>\n",
       "      <td>0</td>\n",
       "      <td>0</td>\n",
       "    </tr>\n",
       "    <tr>\n",
       "      <th>3</th>\n",
       "      <td>15</td>\n",
       "      <td>0</td>\n",
       "      <td>0</td>\n",
       "      <td>0</td>\n",
       "      <td>0</td>\n",
       "      <td>0</td>\n",
       "      <td>0</td>\n",
       "      <td>0</td>\n",
       "      <td>0</td>\n",
       "      <td>0</td>\n",
       "      <td>...</td>\n",
       "      <td>0</td>\n",
       "      <td>0</td>\n",
       "      <td>0</td>\n",
       "      <td>0</td>\n",
       "      <td>0</td>\n",
       "      <td>0</td>\n",
       "      <td>0</td>\n",
       "      <td>0</td>\n",
       "      <td>0</td>\n",
       "      <td>0</td>\n",
       "    </tr>\n",
       "    <tr>\n",
       "      <th>4</th>\n",
       "      <td>4</td>\n",
       "      <td>0</td>\n",
       "      <td>0</td>\n",
       "      <td>0</td>\n",
       "      <td>0</td>\n",
       "      <td>0</td>\n",
       "      <td>0</td>\n",
       "      <td>0</td>\n",
       "      <td>0</td>\n",
       "      <td>0</td>\n",
       "      <td>...</td>\n",
       "      <td>0</td>\n",
       "      <td>0</td>\n",
       "      <td>0</td>\n",
       "      <td>0</td>\n",
       "      <td>0</td>\n",
       "      <td>0</td>\n",
       "      <td>0</td>\n",
       "      <td>0</td>\n",
       "      <td>0</td>\n",
       "      <td>0</td>\n",
       "    </tr>\n",
       "    <tr>\n",
       "      <th>...</th>\n",
       "      <td>...</td>\n",
       "      <td>...</td>\n",
       "      <td>...</td>\n",
       "      <td>...</td>\n",
       "      <td>...</td>\n",
       "      <td>...</td>\n",
       "      <td>...</td>\n",
       "      <td>...</td>\n",
       "      <td>...</td>\n",
       "      <td>...</td>\n",
       "      <td>...</td>\n",
       "      <td>...</td>\n",
       "      <td>...</td>\n",
       "      <td>...</td>\n",
       "      <td>...</td>\n",
       "      <td>...</td>\n",
       "      <td>...</td>\n",
       "      <td>...</td>\n",
       "      <td>...</td>\n",
       "      <td>...</td>\n",
       "      <td>...</td>\n",
       "    </tr>\n",
       "    <tr>\n",
       "      <th>112795</th>\n",
       "      <td>22</td>\n",
       "      <td>0</td>\n",
       "      <td>0</td>\n",
       "      <td>0</td>\n",
       "      <td>0</td>\n",
       "      <td>0</td>\n",
       "      <td>0</td>\n",
       "      <td>0</td>\n",
       "      <td>0</td>\n",
       "      <td>0</td>\n",
       "      <td>...</td>\n",
       "      <td>0</td>\n",
       "      <td>0</td>\n",
       "      <td>0</td>\n",
       "      <td>0</td>\n",
       "      <td>0</td>\n",
       "      <td>0</td>\n",
       "      <td>0</td>\n",
       "      <td>0</td>\n",
       "      <td>0</td>\n",
       "      <td>0</td>\n",
       "    </tr>\n",
       "    <tr>\n",
       "      <th>112796</th>\n",
       "      <td>17</td>\n",
       "      <td>0</td>\n",
       "      <td>0</td>\n",
       "      <td>0</td>\n",
       "      <td>0</td>\n",
       "      <td>0</td>\n",
       "      <td>0</td>\n",
       "      <td>0</td>\n",
       "      <td>0</td>\n",
       "      <td>0</td>\n",
       "      <td>...</td>\n",
       "      <td>0</td>\n",
       "      <td>0</td>\n",
       "      <td>0</td>\n",
       "      <td>0</td>\n",
       "      <td>0</td>\n",
       "      <td>0</td>\n",
       "      <td>0</td>\n",
       "      <td>0</td>\n",
       "      <td>0</td>\n",
       "      <td>0</td>\n",
       "    </tr>\n",
       "    <tr>\n",
       "      <th>112797</th>\n",
       "      <td>23</td>\n",
       "      <td>0</td>\n",
       "      <td>0</td>\n",
       "      <td>0</td>\n",
       "      <td>0</td>\n",
       "      <td>0</td>\n",
       "      <td>0</td>\n",
       "      <td>0</td>\n",
       "      <td>0</td>\n",
       "      <td>0</td>\n",
       "      <td>...</td>\n",
       "      <td>0</td>\n",
       "      <td>0</td>\n",
       "      <td>0</td>\n",
       "      <td>0</td>\n",
       "      <td>0</td>\n",
       "      <td>0</td>\n",
       "      <td>0</td>\n",
       "      <td>0</td>\n",
       "      <td>0</td>\n",
       "      <td>0</td>\n",
       "    </tr>\n",
       "    <tr>\n",
       "      <th>112798</th>\n",
       "      <td>31</td>\n",
       "      <td>0</td>\n",
       "      <td>0</td>\n",
       "      <td>0</td>\n",
       "      <td>0</td>\n",
       "      <td>0</td>\n",
       "      <td>0</td>\n",
       "      <td>0</td>\n",
       "      <td>0</td>\n",
       "      <td>0</td>\n",
       "      <td>...</td>\n",
       "      <td>0</td>\n",
       "      <td>0</td>\n",
       "      <td>0</td>\n",
       "      <td>0</td>\n",
       "      <td>0</td>\n",
       "      <td>0</td>\n",
       "      <td>0</td>\n",
       "      <td>0</td>\n",
       "      <td>0</td>\n",
       "      <td>0</td>\n",
       "    </tr>\n",
       "    <tr>\n",
       "      <th>112799</th>\n",
       "      <td>8</td>\n",
       "      <td>0</td>\n",
       "      <td>0</td>\n",
       "      <td>0</td>\n",
       "      <td>0</td>\n",
       "      <td>0</td>\n",
       "      <td>0</td>\n",
       "      <td>0</td>\n",
       "      <td>0</td>\n",
       "      <td>0</td>\n",
       "      <td>...</td>\n",
       "      <td>0</td>\n",
       "      <td>0</td>\n",
       "      <td>0</td>\n",
       "      <td>0</td>\n",
       "      <td>0</td>\n",
       "      <td>0</td>\n",
       "      <td>0</td>\n",
       "      <td>0</td>\n",
       "      <td>0</td>\n",
       "      <td>0</td>\n",
       "    </tr>\n",
       "  </tbody>\n",
       "</table>\n",
       "<p>112800 rows × 785 columns</p>\n",
       "</div>"
      ],
      "text/plain": [
       "        0    1    2    3    4    5    6    7    8    9    ...  775  776  777  \\\n",
       "0        45    0    0    0    0    0    0    0    0    0  ...    0    0    0   \n",
       "1        36    0    0    0    0    0    0    0    0    0  ...    0    0    0   \n",
       "2        43    0    0    0    0    0    0    0    0    0  ...    0    0    0   \n",
       "3        15    0    0    0    0    0    0    0    0    0  ...    0    0    0   \n",
       "4         4    0    0    0    0    0    0    0    0    0  ...    0    0    0   \n",
       "...     ...  ...  ...  ...  ...  ...  ...  ...  ...  ...  ...  ...  ...  ...   \n",
       "112795   22    0    0    0    0    0    0    0    0    0  ...    0    0    0   \n",
       "112796   17    0    0    0    0    0    0    0    0    0  ...    0    0    0   \n",
       "112797   23    0    0    0    0    0    0    0    0    0  ...    0    0    0   \n",
       "112798   31    0    0    0    0    0    0    0    0    0  ...    0    0    0   \n",
       "112799    8    0    0    0    0    0    0    0    0    0  ...    0    0    0   \n",
       "\n",
       "        778  779  780  781  782  783  784  \n",
       "0         0    0    0    0    0    0    0  \n",
       "1         0    0    0    0    0    0    0  \n",
       "2         0    0    0    0    0    0    0  \n",
       "3         0    0    0    0    0    0    0  \n",
       "4         0    0    0    0    0    0    0  \n",
       "...     ...  ...  ...  ...  ...  ...  ...  \n",
       "112795    0    0    0    0    0    0    0  \n",
       "112796    0    0    0    0    0    0    0  \n",
       "112797    0    0    0    0    0    0    0  \n",
       "112798    0    0    0    0    0    0    0  \n",
       "112799    0    0    0    0    0    0    0  \n",
       "\n",
       "[112800 rows x 785 columns]"
      ]
     },
     "execution_count": 4,
     "metadata": {},
     "output_type": "execute_result"
    }
   ],
   "source": [
    "train_images"
   ]
  },
  {
   "cell_type": "code",
   "execution_count": 5,
   "id": "6c0498a6",
   "metadata": {},
   "outputs": [
    {
     "name": "stdout",
     "output_type": "stream",
     "text": [
      "a\n"
     ]
    },
    {
     "data": {
      "image/png": "[encoded data removed]",
      "text/plain": [
       "<Figure size 640x480 with 1 Axes>"
      ]
     },
     "metadata": {},
     "output_type": "display_data"
    }
   ],
   "source": [
    "plt.imshow(np.rot90(np.fliplr(train_images.iloc[1,1:].values.reshape(28,28)))) ## We'll learn about this later\n",
    "print(chr(97)) # 36 in labels column maps to 36 --> 97 in map_images "
   ]
  },
  {
   "cell_type": "markdown",
   "id": "d372d49f",
   "metadata": {},
   "source": [
    "# Data Preprocessing"
   ]
  },
  {
   "cell_type": "code",
   "execution_count": 6,
   "id": "c8932290",
   "metadata": {},
   "outputs": [
    {
     "data": {
      "text/plain": [
       "<matplotlib.image.AxesImage at 0x1e2ce553790>"
      ]
     },
     "execution_count": 6,
     "metadata": {},
     "output_type": "execute_result"
    },
    {
     "data": {
      "image/png": "[encoded data removed]",
      "text/plain": [
       "<Figure size 640x480 with 1 Axes>"
      ]
     },
     "metadata": {},
     "output_type": "display_data"
    }
   ],
   "source": [
    "# Seperating labels from features in training and test data.\n",
    "train_x = train_images.iloc[:,1:]  \n",
    "train_y = train_images.iloc[:,0]  \n",
    "train_x = train_x.values\n",
    "\n",
    "test_x = test_images.iloc[:,1:]\n",
    "test_y = test_images.iloc[:,0]\n",
    "test_x = test_x.values\n",
    "\n",
    "# ascii_map just for the convenince, i've removed the first column in map_images.\n",
    "ascii_map = []\n",
    "for i in map_images.values:\n",
    "    ascii_map.append(i[0].split()[1])\n",
    "\n",
    "# Uncomment the below line to know about the labels present in our dataset\n",
    "# for i in ascii_map: \n",
    "#     print(chr(int(i)))\n",
    "plt.imshow(np.rot90(np.fliplr(train_x[1].reshape(28,28))))"
   ]
  },
  {
   "cell_type": "code",
   "execution_count": 7,
   "id": "80e9008c",
   "metadata": {},
   "outputs": [],
   "source": [
    "# The images in train_images are not in a proper orientation,hence to make them appropriate for training & testing data.\n",
    "\n",
    "def rot_flip(image):\n",
    "    image = image.reshape([28, 28])\n",
    "    image = np.fliplr(image)\n",
    "    image = np.rot90(image)\n",
    "    return image"
   ]
  },
  {
   "cell_type": "code",
   "execution_count": 8,
   "id": "25b53b01",
   "metadata": {},
   "outputs": [
    {
     "data": {
      "text/plain": [
       "(112800, 28, 28)"
      ]
     },
     "execution_count": 8,
     "metadata": {},
     "output_type": "execute_result"
    },
    {
     "data": {
      "image/png": "[encoded data removed]",
      "text/plain": [
       "<Figure size 640x480 with 1 Axes>"
      ]
     },
     "metadata": {},
     "output_type": "display_data"
    }
   ],
   "source": [
    "train_x = np.apply_along_axis(rot_flip,1,train_x)\n",
    "test_x = np.apply_along_axis(rot_flip,1,test_x)\n",
    "plt.imshow(train_x[2])\n",
    "train_x.shape"
   ]
  },
  {
   "cell_type": "code",
   "execution_count": 9,
   "id": "b5016aa9",
   "metadata": {},
   "outputs": [],
   "source": [
    "train_x = train_x.astype('float32')\n",
    "train_x = train_x/255.0\n",
    "\n",
    "test_x = test_x.astype('float32')\n",
    "test_x = test_x/255.0\n",
    "\n",
    "train_x = train_x.reshape(-1, 28,28, 1)   #Equivalent to (112800,28,28,1)\n",
    "test_x = test_x.reshape(-1, 28,28, 1)  "
   ]
  },
  {
   "cell_type": "code",
   "execution_count": 45,
   "id": "d5baa9e0",
   "metadata": {},
   "outputs": [],
   "source": [
    "model = Sequential()\n",
    "model.add(Conv2D(32,(4,4),input_shape = (28,28,1),activation = 'relu'))\n",
    "model.add(Conv2D(64,(4,4),activation = 'relu'))\n",
    "model.add(MaxPool2D(2,2))\n",
    "model.add(Conv2D(128,(4,4),activation = 'relu'))\n",
    "model.add(MaxPool2D(2,2))\n",
    "model.add(Dropout(0.25))\n",
    "model.add(Flatten())\n",
    "model.add(Dense(256,activation='relu'))\n",
    "model.add(Dropout(0.5))\n",
    "model.add(Dense(47,activation='softmax'))"
   ]
  },
  {
   "cell_type": "code",
   "execution_count": 46,
   "id": "f3d3edce",
   "metadata": {},
   "outputs": [
    {
     "name": "stdout",
     "output_type": "stream",
     "text": [
      "Model: \"sequential_21\"\n",
      "_________________________________________________________________\n",
      " Layer (type)                Output Shape              Param #   \n",
      "=================================================================\n",
      " conv2d_69 (Conv2D)          (None, 25, 25, 32)        544       \n",
      "                                                                 \n",
      " conv2d_70 (Conv2D)          (None, 22, 22, 64)        32832     \n",
      "                                                                 \n",
      " max_pooling2d_43 (MaxPoolin  (None, 11, 11, 64)       0         \n",
      " g2D)                                                            \n",
      "                                                                 \n",
      " conv2d_71 (Conv2D)          (None, 8, 8, 128)         131200    \n",
      "                                                                 \n",
      " max_pooling2d_44 (MaxPoolin  (None, 4, 4, 128)        0         \n",
      " g2D)                                                            \n",
      "                                                                 \n",
      " dropout_12 (Dropout)        (None, 4, 4, 128)         0         \n",
      "                                                                 \n",
      " flatten_6 (Flatten)         (None, 2048)              0         \n",
      "                                                                 \n",
      " dense_12 (Dense)            (None, 256)               524544    \n",
      "                                                                 \n",
      " dropout_13 (Dropout)        (None, 256)               0         \n",
      "                                                                 \n",
      " dense_13 (Dense)            (None, 47)                12079     \n",
      "                                                                 \n",
      "=================================================================\n",
      "Total params: 701,199\n",
      "Trainable params: 701,199\n",
      "Non-trainable params: 0\n",
      "_________________________________________________________________\n"
     ]
    }
   ],
   "source": [
    "model.compile(optimizer = 'adam',loss= \"sparse_categorical_crossentropy\", metrics=['accuracy'])\n",
    "model.summary()"
   ]
  },
  {
   "cell_type": "code",
   "execution_count": 47,
   "id": "0a1cef48",
   "metadata": {},
   "outputs": [
    {
     "name": "stdout",
     "output_type": "stream",
     "text": [
      "Epoch 1/30\n",
      "3525/3525 [==============================] - 560s 158ms/step - loss: 0.7662 - accuracy: 0.7594 - val_loss: 0.3924 - val_accuracy: 0.8653\n",
      "Epoch 2/30\n",
      "3525/3525 [==============================] - 557s 158ms/step - loss: 0.4498 - accuracy: 0.8455 - val_loss: 0.3504 - val_accuracy: 0.8745\n",
      "Epoch 3/30\n",
      "3525/3525 [==============================] - 557s 158ms/step - loss: 0.4013 - accuracy: 0.8586 - val_loss: 0.3406 - val_accuracy: 0.8799\n",
      "Epoch 4/30\n",
      "3525/3525 [==============================] - 603s 171ms/step - loss: 0.3719 - accuracy: 0.8683 - val_loss: 0.3276 - val_accuracy: 0.8797\n",
      "Epoch 5/30\n",
      "3525/3525 [==============================] - 549s 156ms/step - loss: 0.3522 - accuracy: 0.8732 - val_loss: 0.3262 - val_accuracy: 0.8868\n",
      "Epoch 6/30\n",
      "3525/3525 [==============================] - 546s 155ms/step - loss: 0.3375 - accuracy: 0.8768 - val_loss: 0.3243 - val_accuracy: 0.8874\n",
      "Epoch 7/30\n",
      "3525/3525 [==============================] - 556s 158ms/step - loss: 0.3236 - accuracy: 0.8797 - val_loss: 0.3184 - val_accuracy: 0.8884\n",
      "Epoch 8/30\n",
      "3525/3525 [==============================] - 557s 158ms/step - loss: 0.3147 - accuracy: 0.8834 - val_loss: 0.3162 - val_accuracy: 0.8875\n",
      "Epoch 9/30\n",
      "3525/3525 [==============================] - 546s 155ms/step - loss: 0.3053 - accuracy: 0.8862 - val_loss: 0.3171 - val_accuracy: 0.8885\n",
      "Epoch 10/30\n",
      "3525/3525 [==============================] - 549s 156ms/step - loss: 0.2967 - accuracy: 0.8878 - val_loss: 0.3106 - val_accuracy: 0.8880\n",
      "Epoch 11/30\n",
      "3525/3525 [==============================] - 503s 143ms/step - loss: 0.2941 - accuracy: 0.8902 - val_loss: 0.3189 - val_accuracy: 0.8898\n",
      "Epoch 12/30\n",
      "3525/3525 [==============================] - 433s 123ms/step - loss: 0.2881 - accuracy: 0.8919 - val_loss: 0.3122 - val_accuracy: 0.8909\n",
      "Epoch 13/30\n",
      "3525/3525 [==============================] - 432s 123ms/step - loss: 0.2822 - accuracy: 0.8930 - val_loss: 0.3256 - val_accuracy: 0.8905\n",
      "Epoch 14/30\n",
      "3525/3525 [==============================] - 434s 123ms/step - loss: 0.2775 - accuracy: 0.8942 - val_loss: 0.3243 - val_accuracy: 0.8888\n",
      "Epoch 15/30\n",
      "3525/3525 [==============================] - 437s 124ms/step - loss: 0.2737 - accuracy: 0.8954 - val_loss: 0.3231 - val_accuracy: 0.8898\n",
      "Epoch 16/30\n",
      "3525/3525 [==============================] - 454s 129ms/step - loss: 0.2709 - accuracy: 0.8969 - val_loss: 0.3355 - val_accuracy: 0.8931\n",
      "Epoch 17/30\n",
      "3525/3525 [==============================] - 429s 122ms/step - loss: 0.2667 - accuracy: 0.8982 - val_loss: 0.3285 - val_accuracy: 0.8921\n",
      "Epoch 18/30\n",
      "3525/3525 [==============================] - 443s 126ms/step - loss: 0.2640 - accuracy: 0.8982 - val_loss: 0.3250 - val_accuracy: 0.8926\n",
      "Epoch 19/30\n",
      "3525/3525 [==============================] - 438s 124ms/step - loss: 0.2619 - accuracy: 0.8994 - val_loss: 0.3271 - val_accuracy: 0.8910\n",
      "Epoch 20/30\n",
      "3525/3525 [==============================] - 427s 121ms/step - loss: 0.2589 - accuracy: 0.9002 - val_loss: 0.3372 - val_accuracy: 0.8903\n",
      "Epoch 21/30\n",
      "3525/3525 [==============================] - 452s 128ms/step - loss: 0.2562 - accuracy: 0.9015 - val_loss: 0.3380 - val_accuracy: 0.8870\n",
      "Epoch 22/30\n",
      "3525/3525 [==============================] - 542s 154ms/step - loss: 0.2521 - accuracy: 0.9017 - val_loss: 0.3399 - val_accuracy: 0.8916\n",
      "Epoch 23/30\n",
      "3525/3525 [==============================] - 543s 154ms/step - loss: 0.2510 - accuracy: 0.9034 - val_loss: 0.3341 - val_accuracy: 0.8927\n",
      "Epoch 24/30\n",
      "3525/3525 [==============================] - 543s 154ms/step - loss: 0.2504 - accuracy: 0.9032 - val_loss: 0.3402 - val_accuracy: 0.8920\n",
      "Epoch 25/30\n",
      "3525/3525 [==============================] - 545s 155ms/step - loss: 0.2478 - accuracy: 0.9042 - val_loss: 0.3493 - val_accuracy: 0.8899\n",
      "Epoch 26/30\n",
      "3525/3525 [==============================] - 549s 156ms/step - loss: 0.2465 - accuracy: 0.9045 - val_loss: 0.3413 - val_accuracy: 0.8910\n",
      "Epoch 27/30\n",
      "3525/3525 [==============================] - 559s 159ms/step - loss: 0.2452 - accuracy: 0.9043 - val_loss: 0.3486 - val_accuracy: 0.8901\n",
      "Epoch 28/30\n",
      "3525/3525 [==============================] - 551s 156ms/step - loss: 0.2425 - accuracy: 0.9057 - val_loss: 0.3482 - val_accuracy: 0.8911\n",
      "Epoch 29/30\n",
      "3525/3525 [==============================] - 546s 155ms/step - loss: 0.2405 - accuracy: 0.9059 - val_loss: 0.3613 - val_accuracy: 0.8905\n",
      "Epoch 30/30\n",
      "3525/3525 [==============================] - 542s 154ms/step - loss: 0.2393 - accuracy: 0.9063 - val_loss: 0.3782 - val_accuracy: 0.8902\n"
     ]
    }
   ],
   "source": [
    "history = model.fit(\n",
    "    train_x,\n",
    "    train_y,\n",
    "    validation_data = (test_x,test_y),\n",
    "    epochs = 30,\n",
    ")"
   ]
  },
  {
   "cell_type": "code",
   "execution_count": 48,
   "id": "69127ec0",
   "metadata": {},
   "outputs": [],
   "source": [
    "# plot accuracy and loss\n",
    "def plotgraph(epochs, acc, val_acc,title):\n",
    "    # Plot training & validation accuracy values\n",
    "    plt.plot(epochs, acc, 'b')\n",
    "    plt.plot(epochs, val_acc, 'r')\n",
    "    plt.title('Model accuracy')\n",
    "    plt.ylabel(title)\n",
    "    plt.xlabel('Epoch')\n",
    "    plt.legend(['Train', 'Val'], loc='upper left')\n",
    "    plt.show()"
   ]
  },
  {
   "cell_type": "code",
   "execution_count": 49,
   "id": "e4dee8d0",
   "metadata": {},
   "outputs": [],
   "source": [
    "#%%\n",
    "acc = history.history['accuracy']\n",
    "val_acc = history.history['val_accuracy']\n",
    "loss = history.history['loss']\n",
    "val_loss = history.history['val_loss']\n",
    "epochs = range(1,len(acc)+1)"
   ]
  },
  {
   "cell_type": "code",
   "execution_count": 50,
   "id": "c8c006a1",
   "metadata": {},
   "outputs": [
    {
     "data": {
      "image/png": "[encoded data removed]",
      "text/plain": [
       "<Figure size 640x480 with 1 Axes>"
      ]
     },
     "metadata": {},
     "output_type": "display_data"
    }
   ],
   "source": [
    "# Accuracy curve\n",
    "plotgraph(epochs, acc, val_acc,\"accuracy\")"
   ]
  },
  {
   "cell_type": "code",
   "execution_count": 51,
   "id": "7a11550c",
   "metadata": {},
   "outputs": [
    {
     "data": {
      "image/png": "[encoded data removed]",
      "text/plain": [
       "<Figure size 640x480 with 1 Axes>"
      ]
     },
     "metadata": {},
     "output_type": "display_data"
    }
   ],
   "source": [
    "# loss curve\n",
    "plotgraph(epochs, loss, val_loss,\"loss\")"
   ]
  },
  {
   "cell_type": "code",
   "execution_count": 52,
   "id": "3134c092",
   "metadata": {},
   "outputs": [
    {
     "name": "stdout",
     "output_type": "stream",
     "text": [
      "Test loss: 0.37821298837661743\n",
      "Test accuracy: 0.8902127742767334\n"
     ]
    }
   ],
   "source": [
    "score = model.evaluate(test_x, test_y, verbose=0)\n",
    "print(\"Test loss:\", score[0])\n",
    "print(\"Test accuracy:\", score[1])"
   ]
  },
  {
   "cell_type": "code",
   "execution_count": 53,
   "id": "f9383548",
   "metadata": {},
   "outputs": [],
   "source": [
    "ascii_map = []\n",
    "for i in map_images.values:\n",
    "    ascii_map.append(i[0].split()[1])\n",
    "\n",
    "\n",
    "# Adding character to associated ASCII Value\n",
    "character = []\n",
    "for i in ascii_map:\n",
    "    character.append(chr(int(i)))\n",
    "# plt.imshow(np.rot90(np.fliplr(train_x[1].reshape(28,28))))\n",
    "character = pd.DataFrame(character)"
   ]
  },
  {
   "cell_type": "code",
   "execution_count": 54,
   "id": "f7c88fa9",
   "metadata": {},
   "outputs": [],
   "source": [
    "ascii_map = pd.DataFrame(ascii_map)\n",
    "ascii_map[\"Character\"] = character\n",
    "ascii_map.to_csv(\"mapping.csv\",index=False,header=True)"
   ]
  },
  {
   "cell_type": "code",
   "execution_count": 55,
   "id": "8da8b7bd",
   "metadata": {},
   "outputs": [
    {
     "name": "stdout",
     "output_type": "stream",
     "text": [
      "(28, 28, 3)\n",
      "1/1 [==============================] - 0s 391ms/step\n",
      "Prediction :  4\n"
     ]
    },
    {
     "data": {
      "image/png": "[encoded data removed]",
      "text/plain": [
       "<Figure size 640x480 with 1 Axes>"
      ]
     },
     "metadata": {},
     "output_type": "display_data"
    }
   ],
   "source": [
    "from keras.preprocessing import image\n",
    "import cv2\n",
    "\n",
    "img_sh_lst = []\n",
    "img = tf.keras.utils.load_img(\"No.png\",target_size=(28,28))\n",
    "x = tf.keras.utils.img_to_array(img)\n",
    "print(x.shape)\n",
    "x = x/255.0\n",
    "\n",
    "gray_image = cv2.cvtColor(x, cv2.COLOR_BGR2GRAY)\n",
    "gray_image = np.expand_dims(gray_image, axis=-1)\n",
    "plt.imshow(gray_image)\n",
    "gray_image = np.expand_dims(gray_image, axis=0)\n",
    "cl = model.predict(gray_image)\n",
    "cl = list(cl[0])\n",
    "\n",
    "print(\"Prediction : \",ascii_map[\"Character\"][cl.index(max(cl))])"
   ]
  },
  {
   "cell_type": "code",
   "execution_count": null,
   "id": "1b7487b7",
   "metadata": {},
   "outputs": [],
   "source": []
  }
 ],
 "metadata": {
  "kernelspec": {
   "display_name": "Python 3 (ipykernel)",
   "language": "python",
   "name": "python3"
  },
  "language_info": {
   "codemirror_mode": {
    "name": "ipython",
    "version": 3
   },
   "file_extension": ".py",
   "mimetype": "text/x-python",
   "name": "python",
   "nbconvert_exporter": "python",
   "pygments_lexer": "ipython3",
   "version": "3.9.13"
  }
 },
 "nbformat": 4,
 "nbformat_minor": 5
}
